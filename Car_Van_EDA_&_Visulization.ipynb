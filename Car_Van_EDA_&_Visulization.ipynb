{
  "nbformat": 4,
  "nbformat_minor": 0,
  "metadata": {
    "colab": {
      "provenance": []
    },
    "kernelspec": {
      "name": "python3",
      "display_name": "Python 3"
    },
    "language_info": {
      "name": "python"
    }
  },
  "cells": [
    {
      "cell_type": "markdown",
      "source": [
        "Importing libraries"
      ],
      "metadata": {
        "id": "fU2eUaApRYpj"
      }
    },
    {
      "cell_type": "code",
      "execution_count": 64,
      "metadata": {
        "id": "FAh0UIus7xIr"
      },
      "outputs": [],
      "source": [
        "import numpy as np\n",
        "import pandas as pd\n",
        "import matplotlib.pyplot as plt\n",
        "import seaborn as sns\n",
        "import plotly.express as px"
      ]
    },
    {
      "cell_type": "code",
      "source": [
        "#import the dataset\n",
        "data=pd.read_csv(\"/content/Carvana- Car prices prediction.zip\")\n",
        "data"
      ],
      "metadata": {
        "id": "9ypFWfu87-oY",
        "colab": {
          "base_uri": "https://localhost:8080/",
          "height": 423
        },
        "outputId": "5890ff2b-9526-46a1-f650-74546db98152"
      },
      "execution_count": 65,
      "outputs": [
        {
          "output_type": "execute_result",
          "data": {
            "text/plain": [
              "                            Name   Year  Miles  Price\n",
              "0                 Chevrolet Trax   2018  41946  16990\n",
              "1                    GMC Terrain   2020  45328  23990\n",
              "2                  Jeep Wrangler   2012  81068  21590\n",
              "3                  Jeep Renegade   2019  35372  21590\n",
              "4                          BMW X  20173  68992  22990\n",
              "...                          ...    ...    ...    ...\n",
              "21995               Honda Accord   2014  98085  17590\n",
              "21996              Dodge Charger   2016  62616  23990\n",
              "21997                Ford Taurus   2013  50345  16990\n",
              "21998   Toyota Corolla Hatchback   2020  27945  23990\n",
              "21999                Honda Civic   2012  70676  14990\n",
              "\n",
              "[22000 rows x 4 columns]"
            ],
            "text/html": [
              "\n",
              "  <div id=\"df-11ed4cf4-1e19-45fb-b15f-0a543c9763cd\">\n",
              "    <div class=\"colab-df-container\">\n",
              "      <div>\n",
              "<style scoped>\n",
              "    .dataframe tbody tr th:only-of-type {\n",
              "        vertical-align: middle;\n",
              "    }\n",
              "\n",
              "    .dataframe tbody tr th {\n",
              "        vertical-align: top;\n",
              "    }\n",
              "\n",
              "    .dataframe thead th {\n",
              "        text-align: right;\n",
              "    }\n",
              "</style>\n",
              "<table border=\"1\" class=\"dataframe\">\n",
              "  <thead>\n",
              "    <tr style=\"text-align: right;\">\n",
              "      <th></th>\n",
              "      <th>Name</th>\n",
              "      <th>Year</th>\n",
              "      <th>Miles</th>\n",
              "      <th>Price</th>\n",
              "    </tr>\n",
              "  </thead>\n",
              "  <tbody>\n",
              "    <tr>\n",
              "      <th>0</th>\n",
              "      <td>Chevrolet Trax</td>\n",
              "      <td>2018</td>\n",
              "      <td>41946</td>\n",
              "      <td>16990</td>\n",
              "    </tr>\n",
              "    <tr>\n",
              "      <th>1</th>\n",
              "      <td>GMC Terrain</td>\n",
              "      <td>2020</td>\n",
              "      <td>45328</td>\n",
              "      <td>23990</td>\n",
              "    </tr>\n",
              "    <tr>\n",
              "      <th>2</th>\n",
              "      <td>Jeep Wrangler</td>\n",
              "      <td>2012</td>\n",
              "      <td>81068</td>\n",
              "      <td>21590</td>\n",
              "    </tr>\n",
              "    <tr>\n",
              "      <th>3</th>\n",
              "      <td>Jeep Renegade</td>\n",
              "      <td>2019</td>\n",
              "      <td>35372</td>\n",
              "      <td>21590</td>\n",
              "    </tr>\n",
              "    <tr>\n",
              "      <th>4</th>\n",
              "      <td>BMW X</td>\n",
              "      <td>20173</td>\n",
              "      <td>68992</td>\n",
              "      <td>22990</td>\n",
              "    </tr>\n",
              "    <tr>\n",
              "      <th>...</th>\n",
              "      <td>...</td>\n",
              "      <td>...</td>\n",
              "      <td>...</td>\n",
              "      <td>...</td>\n",
              "    </tr>\n",
              "    <tr>\n",
              "      <th>21995</th>\n",
              "      <td>Honda Accord</td>\n",
              "      <td>2014</td>\n",
              "      <td>98085</td>\n",
              "      <td>17590</td>\n",
              "    </tr>\n",
              "    <tr>\n",
              "      <th>21996</th>\n",
              "      <td>Dodge Charger</td>\n",
              "      <td>2016</td>\n",
              "      <td>62616</td>\n",
              "      <td>23990</td>\n",
              "    </tr>\n",
              "    <tr>\n",
              "      <th>21997</th>\n",
              "      <td>Ford Taurus</td>\n",
              "      <td>2013</td>\n",
              "      <td>50345</td>\n",
              "      <td>16990</td>\n",
              "    </tr>\n",
              "    <tr>\n",
              "      <th>21998</th>\n",
              "      <td>Toyota Corolla Hatchback</td>\n",
              "      <td>2020</td>\n",
              "      <td>27945</td>\n",
              "      <td>23990</td>\n",
              "    </tr>\n",
              "    <tr>\n",
              "      <th>21999</th>\n",
              "      <td>Honda Civic</td>\n",
              "      <td>2012</td>\n",
              "      <td>70676</td>\n",
              "      <td>14990</td>\n",
              "    </tr>\n",
              "  </tbody>\n",
              "</table>\n",
              "<p>22000 rows × 4 columns</p>\n",
              "</div>\n",
              "      <button class=\"colab-df-convert\" onclick=\"convertToInteractive('df-11ed4cf4-1e19-45fb-b15f-0a543c9763cd')\"\n",
              "              title=\"Convert this dataframe to an interactive table.\"\n",
              "              style=\"display:none;\">\n",
              "        \n",
              "  <svg xmlns=\"http://www.w3.org/2000/svg\" height=\"24px\"viewBox=\"0 0 24 24\"\n",
              "       width=\"24px\">\n",
              "    <path d=\"M0 0h24v24H0V0z\" fill=\"none\"/>\n",
              "    <path d=\"M18.56 5.44l.94 2.06.94-2.06 2.06-.94-2.06-.94-.94-2.06-.94 2.06-2.06.94zm-11 1L8.5 8.5l.94-2.06 2.06-.94-2.06-.94L8.5 2.5l-.94 2.06-2.06.94zm10 10l.94 2.06.94-2.06 2.06-.94-2.06-.94-.94-2.06-.94 2.06-2.06.94z\"/><path d=\"M17.41 7.96l-1.37-1.37c-.4-.4-.92-.59-1.43-.59-.52 0-1.04.2-1.43.59L10.3 9.45l-7.72 7.72c-.78.78-.78 2.05 0 2.83L4 21.41c.39.39.9.59 1.41.59.51 0 1.02-.2 1.41-.59l7.78-7.78 2.81-2.81c.8-.78.8-2.07 0-2.86zM5.41 20L4 18.59l7.72-7.72 1.47 1.35L5.41 20z\"/>\n",
              "  </svg>\n",
              "      </button>\n",
              "      \n",
              "  <style>\n",
              "    .colab-df-container {\n",
              "      display:flex;\n",
              "      flex-wrap:wrap;\n",
              "      gap: 12px;\n",
              "    }\n",
              "\n",
              "    .colab-df-convert {\n",
              "      background-color: #E8F0FE;\n",
              "      border: none;\n",
              "      border-radius: 50%;\n",
              "      cursor: pointer;\n",
              "      display: none;\n",
              "      fill: #1967D2;\n",
              "      height: 32px;\n",
              "      padding: 0 0 0 0;\n",
              "      width: 32px;\n",
              "    }\n",
              "\n",
              "    .colab-df-convert:hover {\n",
              "      background-color: #E2EBFA;\n",
              "      box-shadow: 0px 1px 2px rgba(60, 64, 67, 0.3), 0px 1px 3px 1px rgba(60, 64, 67, 0.15);\n",
              "      fill: #174EA6;\n",
              "    }\n",
              "\n",
              "    [theme=dark] .colab-df-convert {\n",
              "      background-color: #3B4455;\n",
              "      fill: #D2E3FC;\n",
              "    }\n",
              "\n",
              "    [theme=dark] .colab-df-convert:hover {\n",
              "      background-color: #434B5C;\n",
              "      box-shadow: 0px 1px 3px 1px rgba(0, 0, 0, 0.15);\n",
              "      filter: drop-shadow(0px 1px 2px rgba(0, 0, 0, 0.3));\n",
              "      fill: #FFFFFF;\n",
              "    }\n",
              "  </style>\n",
              "\n",
              "      <script>\n",
              "        const buttonEl =\n",
              "          document.querySelector('#df-11ed4cf4-1e19-45fb-b15f-0a543c9763cd button.colab-df-convert');\n",
              "        buttonEl.style.display =\n",
              "          google.colab.kernel.accessAllowed ? 'block' : 'none';\n",
              "\n",
              "        async function convertToInteractive(key) {\n",
              "          const element = document.querySelector('#df-11ed4cf4-1e19-45fb-b15f-0a543c9763cd');\n",
              "          const dataTable =\n",
              "            await google.colab.kernel.invokeFunction('convertToInteractive',\n",
              "                                                     [key], {});\n",
              "          if (!dataTable) return;\n",
              "\n",
              "          const docLinkHtml = 'Like what you see? Visit the ' +\n",
              "            '<a target=\"_blank\" href=https://colab.research.google.com/notebooks/data_table.ipynb>data table notebook</a>'\n",
              "            + ' to learn more about interactive tables.';\n",
              "          element.innerHTML = '';\n",
              "          dataTable['output_type'] = 'display_data';\n",
              "          await google.colab.output.renderOutput(dataTable, element);\n",
              "          const docLink = document.createElement('div');\n",
              "          docLink.innerHTML = docLinkHtml;\n",
              "          element.appendChild(docLink);\n",
              "        }\n",
              "      </script>\n",
              "    </div>\n",
              "  </div>\n",
              "  "
            ]
          },
          "metadata": {},
          "execution_count": 65
        }
      ]
    },
    {
      "cell_type": "code",
      "source": [
        "#display the first 10 rows of the dataframe\n",
        "data.head(10)"
      ],
      "metadata": {
        "colab": {
          "base_uri": "https://localhost:8080/",
          "height": 363
        },
        "id": "cL3YzRKM8GyN",
        "outputId": "aa8ca7cb-863f-498f-bf98-e70bcbf83740"
      },
      "execution_count": 66,
      "outputs": [
        {
          "output_type": "execute_result",
          "data": {
            "text/plain": [
              "              Name   Year  Miles  Price\n",
              "0   Chevrolet Trax   2018  41946  16990\n",
              "1      GMC Terrain   2020  45328  23990\n",
              "2    Jeep Wrangler   2012  81068  21590\n",
              "3    Jeep Renegade   2019  35372  21590\n",
              "4            BMW X  20173  68992  22990\n",
              "5     Buick Encore   2019  47973  18590\n",
              "6     Jeep Compass   2016  57159  17590\n",
              "7     Jeep Compass   2017  47619  18590\n",
              "8     Jeep Patriot   2015  51472  17590\n",
              "9     Jeep Compass   2016  33218  17990"
            ],
            "text/html": [
              "\n",
              "  <div id=\"df-dd47ce5c-d2b3-4ba9-8e1f-87be62707177\">\n",
              "    <div class=\"colab-df-container\">\n",
              "      <div>\n",
              "<style scoped>\n",
              "    .dataframe tbody tr th:only-of-type {\n",
              "        vertical-align: middle;\n",
              "    }\n",
              "\n",
              "    .dataframe tbody tr th {\n",
              "        vertical-align: top;\n",
              "    }\n",
              "\n",
              "    .dataframe thead th {\n",
              "        text-align: right;\n",
              "    }\n",
              "</style>\n",
              "<table border=\"1\" class=\"dataframe\">\n",
              "  <thead>\n",
              "    <tr style=\"text-align: right;\">\n",
              "      <th></th>\n",
              "      <th>Name</th>\n",
              "      <th>Year</th>\n",
              "      <th>Miles</th>\n",
              "      <th>Price</th>\n",
              "    </tr>\n",
              "  </thead>\n",
              "  <tbody>\n",
              "    <tr>\n",
              "      <th>0</th>\n",
              "      <td>Chevrolet Trax</td>\n",
              "      <td>2018</td>\n",
              "      <td>41946</td>\n",
              "      <td>16990</td>\n",
              "    </tr>\n",
              "    <tr>\n",
              "      <th>1</th>\n",
              "      <td>GMC Terrain</td>\n",
              "      <td>2020</td>\n",
              "      <td>45328</td>\n",
              "      <td>23990</td>\n",
              "    </tr>\n",
              "    <tr>\n",
              "      <th>2</th>\n",
              "      <td>Jeep Wrangler</td>\n",
              "      <td>2012</td>\n",
              "      <td>81068</td>\n",
              "      <td>21590</td>\n",
              "    </tr>\n",
              "    <tr>\n",
              "      <th>3</th>\n",
              "      <td>Jeep Renegade</td>\n",
              "      <td>2019</td>\n",
              "      <td>35372</td>\n",
              "      <td>21590</td>\n",
              "    </tr>\n",
              "    <tr>\n",
              "      <th>4</th>\n",
              "      <td>BMW X</td>\n",
              "      <td>20173</td>\n",
              "      <td>68992</td>\n",
              "      <td>22990</td>\n",
              "    </tr>\n",
              "    <tr>\n",
              "      <th>5</th>\n",
              "      <td>Buick Encore</td>\n",
              "      <td>2019</td>\n",
              "      <td>47973</td>\n",
              "      <td>18590</td>\n",
              "    </tr>\n",
              "    <tr>\n",
              "      <th>6</th>\n",
              "      <td>Jeep Compass</td>\n",
              "      <td>2016</td>\n",
              "      <td>57159</td>\n",
              "      <td>17590</td>\n",
              "    </tr>\n",
              "    <tr>\n",
              "      <th>7</th>\n",
              "      <td>Jeep Compass</td>\n",
              "      <td>2017</td>\n",
              "      <td>47619</td>\n",
              "      <td>18590</td>\n",
              "    </tr>\n",
              "    <tr>\n",
              "      <th>8</th>\n",
              "      <td>Jeep Patriot</td>\n",
              "      <td>2015</td>\n",
              "      <td>51472</td>\n",
              "      <td>17590</td>\n",
              "    </tr>\n",
              "    <tr>\n",
              "      <th>9</th>\n",
              "      <td>Jeep Compass</td>\n",
              "      <td>2016</td>\n",
              "      <td>33218</td>\n",
              "      <td>17990</td>\n",
              "    </tr>\n",
              "  </tbody>\n",
              "</table>\n",
              "</div>\n",
              "      <button class=\"colab-df-convert\" onclick=\"convertToInteractive('df-dd47ce5c-d2b3-4ba9-8e1f-87be62707177')\"\n",
              "              title=\"Convert this dataframe to an interactive table.\"\n",
              "              style=\"display:none;\">\n",
              "        \n",
              "  <svg xmlns=\"http://www.w3.org/2000/svg\" height=\"24px\"viewBox=\"0 0 24 24\"\n",
              "       width=\"24px\">\n",
              "    <path d=\"M0 0h24v24H0V0z\" fill=\"none\"/>\n",
              "    <path d=\"M18.56 5.44l.94 2.06.94-2.06 2.06-.94-2.06-.94-.94-2.06-.94 2.06-2.06.94zm-11 1L8.5 8.5l.94-2.06 2.06-.94-2.06-.94L8.5 2.5l-.94 2.06-2.06.94zm10 10l.94 2.06.94-2.06 2.06-.94-2.06-.94-.94-2.06-.94 2.06-2.06.94z\"/><path d=\"M17.41 7.96l-1.37-1.37c-.4-.4-.92-.59-1.43-.59-.52 0-1.04.2-1.43.59L10.3 9.45l-7.72 7.72c-.78.78-.78 2.05 0 2.83L4 21.41c.39.39.9.59 1.41.59.51 0 1.02-.2 1.41-.59l7.78-7.78 2.81-2.81c.8-.78.8-2.07 0-2.86zM5.41 20L4 18.59l7.72-7.72 1.47 1.35L5.41 20z\"/>\n",
              "  </svg>\n",
              "      </button>\n",
              "      \n",
              "  <style>\n",
              "    .colab-df-container {\n",
              "      display:flex;\n",
              "      flex-wrap:wrap;\n",
              "      gap: 12px;\n",
              "    }\n",
              "\n",
              "    .colab-df-convert {\n",
              "      background-color: #E8F0FE;\n",
              "      border: none;\n",
              "      border-radius: 50%;\n",
              "      cursor: pointer;\n",
              "      display: none;\n",
              "      fill: #1967D2;\n",
              "      height: 32px;\n",
              "      padding: 0 0 0 0;\n",
              "      width: 32px;\n",
              "    }\n",
              "\n",
              "    .colab-df-convert:hover {\n",
              "      background-color: #E2EBFA;\n",
              "      box-shadow: 0px 1px 2px rgba(60, 64, 67, 0.3), 0px 1px 3px 1px rgba(60, 64, 67, 0.15);\n",
              "      fill: #174EA6;\n",
              "    }\n",
              "\n",
              "    [theme=dark] .colab-df-convert {\n",
              "      background-color: #3B4455;\n",
              "      fill: #D2E3FC;\n",
              "    }\n",
              "\n",
              "    [theme=dark] .colab-df-convert:hover {\n",
              "      background-color: #434B5C;\n",
              "      box-shadow: 0px 1px 3px 1px rgba(0, 0, 0, 0.15);\n",
              "      filter: drop-shadow(0px 1px 2px rgba(0, 0, 0, 0.3));\n",
              "      fill: #FFFFFF;\n",
              "    }\n",
              "  </style>\n",
              "\n",
              "      <script>\n",
              "        const buttonEl =\n",
              "          document.querySelector('#df-dd47ce5c-d2b3-4ba9-8e1f-87be62707177 button.colab-df-convert');\n",
              "        buttonEl.style.display =\n",
              "          google.colab.kernel.accessAllowed ? 'block' : 'none';\n",
              "\n",
              "        async function convertToInteractive(key) {\n",
              "          const element = document.querySelector('#df-dd47ce5c-d2b3-4ba9-8e1f-87be62707177');\n",
              "          const dataTable =\n",
              "            await google.colab.kernel.invokeFunction('convertToInteractive',\n",
              "                                                     [key], {});\n",
              "          if (!dataTable) return;\n",
              "\n",
              "          const docLinkHtml = 'Like what you see? Visit the ' +\n",
              "            '<a target=\"_blank\" href=https://colab.research.google.com/notebooks/data_table.ipynb>data table notebook</a>'\n",
              "            + ' to learn more about interactive tables.';\n",
              "          element.innerHTML = '';\n",
              "          dataTable['output_type'] = 'display_data';\n",
              "          await google.colab.output.renderOutput(dataTable, element);\n",
              "          const docLink = document.createElement('div');\n",
              "          docLink.innerHTML = docLinkHtml;\n",
              "          element.appendChild(docLink);\n",
              "        }\n",
              "      </script>\n",
              "    </div>\n",
              "  </div>\n",
              "  "
            ]
          },
          "metadata": {},
          "execution_count": 66
        }
      ]
    },
    {
      "cell_type": "code",
      "source": [
        "#display the last 10 rows of the dataframe \n",
        "data.tail(10)"
      ],
      "metadata": {
        "colab": {
          "base_uri": "https://localhost:8080/",
          "height": 363
        },
        "id": "oL31t5IQ8LoO",
        "outputId": "51360211-c5f3-456d-e971-34bbf11f8e3b"
      },
      "execution_count": 67,
      "outputs": [
        {
          "output_type": "execute_result",
          "data": {
            "text/plain": [
              "                            Name  Year  Miles  Price\n",
              "21990               Nissan Rogue  2015  54894  16990\n",
              "21991            Chevrolet Cruze  2015  83838  13990\n",
              "21992                Ford Taurus  2015  93601  15990\n",
              "21993                Honda Civic  2015  98764  16990\n",
              "21994           Volkswagen Jetta  2015  66523  14590\n",
              "21995               Honda Accord  2014  98085  17590\n",
              "21996              Dodge Charger  2016  62616  23990\n",
              "21997                Ford Taurus  2013  50345  16990\n",
              "21998   Toyota Corolla Hatchback  2020  27945  23990\n",
              "21999                Honda Civic  2012  70676  14990"
            ],
            "text/html": [
              "\n",
              "  <div id=\"df-00f9c725-3a99-4de8-aef7-f4bf2f0df38a\">\n",
              "    <div class=\"colab-df-container\">\n",
              "      <div>\n",
              "<style scoped>\n",
              "    .dataframe tbody tr th:only-of-type {\n",
              "        vertical-align: middle;\n",
              "    }\n",
              "\n",
              "    .dataframe tbody tr th {\n",
              "        vertical-align: top;\n",
              "    }\n",
              "\n",
              "    .dataframe thead th {\n",
              "        text-align: right;\n",
              "    }\n",
              "</style>\n",
              "<table border=\"1\" class=\"dataframe\">\n",
              "  <thead>\n",
              "    <tr style=\"text-align: right;\">\n",
              "      <th></th>\n",
              "      <th>Name</th>\n",
              "      <th>Year</th>\n",
              "      <th>Miles</th>\n",
              "      <th>Price</th>\n",
              "    </tr>\n",
              "  </thead>\n",
              "  <tbody>\n",
              "    <tr>\n",
              "      <th>21990</th>\n",
              "      <td>Nissan Rogue</td>\n",
              "      <td>2015</td>\n",
              "      <td>54894</td>\n",
              "      <td>16990</td>\n",
              "    </tr>\n",
              "    <tr>\n",
              "      <th>21991</th>\n",
              "      <td>Chevrolet Cruze</td>\n",
              "      <td>2015</td>\n",
              "      <td>83838</td>\n",
              "      <td>13990</td>\n",
              "    </tr>\n",
              "    <tr>\n",
              "      <th>21992</th>\n",
              "      <td>Ford Taurus</td>\n",
              "      <td>2015</td>\n",
              "      <td>93601</td>\n",
              "      <td>15990</td>\n",
              "    </tr>\n",
              "    <tr>\n",
              "      <th>21993</th>\n",
              "      <td>Honda Civic</td>\n",
              "      <td>2015</td>\n",
              "      <td>98764</td>\n",
              "      <td>16990</td>\n",
              "    </tr>\n",
              "    <tr>\n",
              "      <th>21994</th>\n",
              "      <td>Volkswagen Jetta</td>\n",
              "      <td>2015</td>\n",
              "      <td>66523</td>\n",
              "      <td>14590</td>\n",
              "    </tr>\n",
              "    <tr>\n",
              "      <th>21995</th>\n",
              "      <td>Honda Accord</td>\n",
              "      <td>2014</td>\n",
              "      <td>98085</td>\n",
              "      <td>17590</td>\n",
              "    </tr>\n",
              "    <tr>\n",
              "      <th>21996</th>\n",
              "      <td>Dodge Charger</td>\n",
              "      <td>2016</td>\n",
              "      <td>62616</td>\n",
              "      <td>23990</td>\n",
              "    </tr>\n",
              "    <tr>\n",
              "      <th>21997</th>\n",
              "      <td>Ford Taurus</td>\n",
              "      <td>2013</td>\n",
              "      <td>50345</td>\n",
              "      <td>16990</td>\n",
              "    </tr>\n",
              "    <tr>\n",
              "      <th>21998</th>\n",
              "      <td>Toyota Corolla Hatchback</td>\n",
              "      <td>2020</td>\n",
              "      <td>27945</td>\n",
              "      <td>23990</td>\n",
              "    </tr>\n",
              "    <tr>\n",
              "      <th>21999</th>\n",
              "      <td>Honda Civic</td>\n",
              "      <td>2012</td>\n",
              "      <td>70676</td>\n",
              "      <td>14990</td>\n",
              "    </tr>\n",
              "  </tbody>\n",
              "</table>\n",
              "</div>\n",
              "      <button class=\"colab-df-convert\" onclick=\"convertToInteractive('df-00f9c725-3a99-4de8-aef7-f4bf2f0df38a')\"\n",
              "              title=\"Convert this dataframe to an interactive table.\"\n",
              "              style=\"display:none;\">\n",
              "        \n",
              "  <svg xmlns=\"http://www.w3.org/2000/svg\" height=\"24px\"viewBox=\"0 0 24 24\"\n",
              "       width=\"24px\">\n",
              "    <path d=\"M0 0h24v24H0V0z\" fill=\"none\"/>\n",
              "    <path d=\"M18.56 5.44l.94 2.06.94-2.06 2.06-.94-2.06-.94-.94-2.06-.94 2.06-2.06.94zm-11 1L8.5 8.5l.94-2.06 2.06-.94-2.06-.94L8.5 2.5l-.94 2.06-2.06.94zm10 10l.94 2.06.94-2.06 2.06-.94-2.06-.94-.94-2.06-.94 2.06-2.06.94z\"/><path d=\"M17.41 7.96l-1.37-1.37c-.4-.4-.92-.59-1.43-.59-.52 0-1.04.2-1.43.59L10.3 9.45l-7.72 7.72c-.78.78-.78 2.05 0 2.83L4 21.41c.39.39.9.59 1.41.59.51 0 1.02-.2 1.41-.59l7.78-7.78 2.81-2.81c.8-.78.8-2.07 0-2.86zM5.41 20L4 18.59l7.72-7.72 1.47 1.35L5.41 20z\"/>\n",
              "  </svg>\n",
              "      </button>\n",
              "      \n",
              "  <style>\n",
              "    .colab-df-container {\n",
              "      display:flex;\n",
              "      flex-wrap:wrap;\n",
              "      gap: 12px;\n",
              "    }\n",
              "\n",
              "    .colab-df-convert {\n",
              "      background-color: #E8F0FE;\n",
              "      border: none;\n",
              "      border-radius: 50%;\n",
              "      cursor: pointer;\n",
              "      display: none;\n",
              "      fill: #1967D2;\n",
              "      height: 32px;\n",
              "      padding: 0 0 0 0;\n",
              "      width: 32px;\n",
              "    }\n",
              "\n",
              "    .colab-df-convert:hover {\n",
              "      background-color: #E2EBFA;\n",
              "      box-shadow: 0px 1px 2px rgba(60, 64, 67, 0.3), 0px 1px 3px 1px rgba(60, 64, 67, 0.15);\n",
              "      fill: #174EA6;\n",
              "    }\n",
              "\n",
              "    [theme=dark] .colab-df-convert {\n",
              "      background-color: #3B4455;\n",
              "      fill: #D2E3FC;\n",
              "    }\n",
              "\n",
              "    [theme=dark] .colab-df-convert:hover {\n",
              "      background-color: #434B5C;\n",
              "      box-shadow: 0px 1px 3px 1px rgba(0, 0, 0, 0.15);\n",
              "      filter: drop-shadow(0px 1px 2px rgba(0, 0, 0, 0.3));\n",
              "      fill: #FFFFFF;\n",
              "    }\n",
              "  </style>\n",
              "\n",
              "      <script>\n",
              "        const buttonEl =\n",
              "          document.querySelector('#df-00f9c725-3a99-4de8-aef7-f4bf2f0df38a button.colab-df-convert');\n",
              "        buttonEl.style.display =\n",
              "          google.colab.kernel.accessAllowed ? 'block' : 'none';\n",
              "\n",
              "        async function convertToInteractive(key) {\n",
              "          const element = document.querySelector('#df-00f9c725-3a99-4de8-aef7-f4bf2f0df38a');\n",
              "          const dataTable =\n",
              "            await google.colab.kernel.invokeFunction('convertToInteractive',\n",
              "                                                     [key], {});\n",
              "          if (!dataTable) return;\n",
              "\n",
              "          const docLinkHtml = 'Like what you see? Visit the ' +\n",
              "            '<a target=\"_blank\" href=https://colab.research.google.com/notebooks/data_table.ipynb>data table notebook</a>'\n",
              "            + ' to learn more about interactive tables.';\n",
              "          element.innerHTML = '';\n",
              "          dataTable['output_type'] = 'display_data';\n",
              "          await google.colab.output.renderOutput(dataTable, element);\n",
              "          const docLink = document.createElement('div');\n",
              "          docLink.innerHTML = docLinkHtml;\n",
              "          element.appendChild(docLink);\n",
              "        }\n",
              "      </script>\n",
              "    </div>\n",
              "  </div>\n",
              "  "
            ]
          },
          "metadata": {},
          "execution_count": 67
        }
      ]
    },
    {
      "cell_type": "markdown",
      "source": [
        "## Understanding the data"
      ],
      "metadata": {
        "id": "2_TgIsAKRydQ"
      }
    },
    {
      "cell_type": "code",
      "source": [
        "data.shape"
      ],
      "metadata": {
        "colab": {
          "base_uri": "https://localhost:8080/"
        },
        "id": "zuG_AK-k8OAW",
        "outputId": "b7f89dc3-088d-498d-a3c6-a3a6c37a4105"
      },
      "execution_count": 68,
      "outputs": [
        {
          "output_type": "execute_result",
          "data": {
            "text/plain": [
              "(22000, 4)"
            ]
          },
          "metadata": {},
          "execution_count": 68
        }
      ]
    },
    {
      "cell_type": "code",
      "source": [
        "data.describe()"
      ],
      "metadata": {
        "colab": {
          "base_uri": "https://localhost:8080/",
          "height": 300
        },
        "id": "95HWkDfp8O8a",
        "outputId": "e242eeea-2ec8-498e-80b4-802800c9b2a3"
      },
      "execution_count": 69,
      "outputs": [
        {
          "output_type": "execute_result",
          "data": {
            "text/plain": [
              "               Year          Miles          Price\n",
              "count  2.200000e+04   22000.000000   22000.000000\n",
              "mean   1.946648e+05   54445.697318   20707.285136\n",
              "std    1.630370e+06   25685.933926    6535.580304\n",
              "min    2.009000e+03      53.000000   10990.000000\n",
              "25%    2.014000e+03   35512.000000   16590.000000\n",
              "50%    2.017000e+03   51890.000000   19590.000000\n",
              "75%    2.020000e+03   73191.000000   22990.000000\n",
              "max    2.022350e+07  120167.000000  102990.000000"
            ],
            "text/html": [
              "\n",
              "  <div id=\"df-eb9a5366-a6a7-4639-b5c7-b38c333cf213\">\n",
              "    <div class=\"colab-df-container\">\n",
              "      <div>\n",
              "<style scoped>\n",
              "    .dataframe tbody tr th:only-of-type {\n",
              "        vertical-align: middle;\n",
              "    }\n",
              "\n",
              "    .dataframe tbody tr th {\n",
              "        vertical-align: top;\n",
              "    }\n",
              "\n",
              "    .dataframe thead th {\n",
              "        text-align: right;\n",
              "    }\n",
              "</style>\n",
              "<table border=\"1\" class=\"dataframe\">\n",
              "  <thead>\n",
              "    <tr style=\"text-align: right;\">\n",
              "      <th></th>\n",
              "      <th>Year</th>\n",
              "      <th>Miles</th>\n",
              "      <th>Price</th>\n",
              "    </tr>\n",
              "  </thead>\n",
              "  <tbody>\n",
              "    <tr>\n",
              "      <th>count</th>\n",
              "      <td>2.200000e+04</td>\n",
              "      <td>22000.000000</td>\n",
              "      <td>22000.000000</td>\n",
              "    </tr>\n",
              "    <tr>\n",
              "      <th>mean</th>\n",
              "      <td>1.946648e+05</td>\n",
              "      <td>54445.697318</td>\n",
              "      <td>20707.285136</td>\n",
              "    </tr>\n",
              "    <tr>\n",
              "      <th>std</th>\n",
              "      <td>1.630370e+06</td>\n",
              "      <td>25685.933926</td>\n",
              "      <td>6535.580304</td>\n",
              "    </tr>\n",
              "    <tr>\n",
              "      <th>min</th>\n",
              "      <td>2.009000e+03</td>\n",
              "      <td>53.000000</td>\n",
              "      <td>10990.000000</td>\n",
              "    </tr>\n",
              "    <tr>\n",
              "      <th>25%</th>\n",
              "      <td>2.014000e+03</td>\n",
              "      <td>35512.000000</td>\n",
              "      <td>16590.000000</td>\n",
              "    </tr>\n",
              "    <tr>\n",
              "      <th>50%</th>\n",
              "      <td>2.017000e+03</td>\n",
              "      <td>51890.000000</td>\n",
              "      <td>19590.000000</td>\n",
              "    </tr>\n",
              "    <tr>\n",
              "      <th>75%</th>\n",
              "      <td>2.020000e+03</td>\n",
              "      <td>73191.000000</td>\n",
              "      <td>22990.000000</td>\n",
              "    </tr>\n",
              "    <tr>\n",
              "      <th>max</th>\n",
              "      <td>2.022350e+07</td>\n",
              "      <td>120167.000000</td>\n",
              "      <td>102990.000000</td>\n",
              "    </tr>\n",
              "  </tbody>\n",
              "</table>\n",
              "</div>\n",
              "      <button class=\"colab-df-convert\" onclick=\"convertToInteractive('df-eb9a5366-a6a7-4639-b5c7-b38c333cf213')\"\n",
              "              title=\"Convert this dataframe to an interactive table.\"\n",
              "              style=\"display:none;\">\n",
              "        \n",
              "  <svg xmlns=\"http://www.w3.org/2000/svg\" height=\"24px\"viewBox=\"0 0 24 24\"\n",
              "       width=\"24px\">\n",
              "    <path d=\"M0 0h24v24H0V0z\" fill=\"none\"/>\n",
              "    <path d=\"M18.56 5.44l.94 2.06.94-2.06 2.06-.94-2.06-.94-.94-2.06-.94 2.06-2.06.94zm-11 1L8.5 8.5l.94-2.06 2.06-.94-2.06-.94L8.5 2.5l-.94 2.06-2.06.94zm10 10l.94 2.06.94-2.06 2.06-.94-2.06-.94-.94-2.06-.94 2.06-2.06.94z\"/><path d=\"M17.41 7.96l-1.37-1.37c-.4-.4-.92-.59-1.43-.59-.52 0-1.04.2-1.43.59L10.3 9.45l-7.72 7.72c-.78.78-.78 2.05 0 2.83L4 21.41c.39.39.9.59 1.41.59.51 0 1.02-.2 1.41-.59l7.78-7.78 2.81-2.81c.8-.78.8-2.07 0-2.86zM5.41 20L4 18.59l7.72-7.72 1.47 1.35L5.41 20z\"/>\n",
              "  </svg>\n",
              "      </button>\n",
              "      \n",
              "  <style>\n",
              "    .colab-df-container {\n",
              "      display:flex;\n",
              "      flex-wrap:wrap;\n",
              "      gap: 12px;\n",
              "    }\n",
              "\n",
              "    .colab-df-convert {\n",
              "      background-color: #E8F0FE;\n",
              "      border: none;\n",
              "      border-radius: 50%;\n",
              "      cursor: pointer;\n",
              "      display: none;\n",
              "      fill: #1967D2;\n",
              "      height: 32px;\n",
              "      padding: 0 0 0 0;\n",
              "      width: 32px;\n",
              "    }\n",
              "\n",
              "    .colab-df-convert:hover {\n",
              "      background-color: #E2EBFA;\n",
              "      box-shadow: 0px 1px 2px rgba(60, 64, 67, 0.3), 0px 1px 3px 1px rgba(60, 64, 67, 0.15);\n",
              "      fill: #174EA6;\n",
              "    }\n",
              "\n",
              "    [theme=dark] .colab-df-convert {\n",
              "      background-color: #3B4455;\n",
              "      fill: #D2E3FC;\n",
              "    }\n",
              "\n",
              "    [theme=dark] .colab-df-convert:hover {\n",
              "      background-color: #434B5C;\n",
              "      box-shadow: 0px 1px 3px 1px rgba(0, 0, 0, 0.15);\n",
              "      filter: drop-shadow(0px 1px 2px rgba(0, 0, 0, 0.3));\n",
              "      fill: #FFFFFF;\n",
              "    }\n",
              "  </style>\n",
              "\n",
              "      <script>\n",
              "        const buttonEl =\n",
              "          document.querySelector('#df-eb9a5366-a6a7-4639-b5c7-b38c333cf213 button.colab-df-convert');\n",
              "        buttonEl.style.display =\n",
              "          google.colab.kernel.accessAllowed ? 'block' : 'none';\n",
              "\n",
              "        async function convertToInteractive(key) {\n",
              "          const element = document.querySelector('#df-eb9a5366-a6a7-4639-b5c7-b38c333cf213');\n",
              "          const dataTable =\n",
              "            await google.colab.kernel.invokeFunction('convertToInteractive',\n",
              "                                                     [key], {});\n",
              "          if (!dataTable) return;\n",
              "\n",
              "          const docLinkHtml = 'Like what you see? Visit the ' +\n",
              "            '<a target=\"_blank\" href=https://colab.research.google.com/notebooks/data_table.ipynb>data table notebook</a>'\n",
              "            + ' to learn more about interactive tables.';\n",
              "          element.innerHTML = '';\n",
              "          dataTable['output_type'] = 'display_data';\n",
              "          await google.colab.output.renderOutput(dataTable, element);\n",
              "          const docLink = document.createElement('div');\n",
              "          docLink.innerHTML = docLinkHtml;\n",
              "          element.appendChild(docLink);\n",
              "        }\n",
              "      </script>\n",
              "    </div>\n",
              "  </div>\n",
              "  "
            ]
          },
          "metadata": {},
          "execution_count": 69
        }
      ]
    },
    {
      "cell_type": "code",
      "source": [
        "0.1*data['Price'].mean()"
      ],
      "metadata": {
        "colab": {
          "base_uri": "https://localhost:8080/"
        },
        "id": "kt28ILkA8Ru3",
        "outputId": "e2ce50ec-a06b-4f59-eb62-e5bb032a4b3a"
      },
      "execution_count": 70,
      "outputs": [
        {
          "output_type": "execute_result",
          "data": {
            "text/plain": [
              "2070.728513636364"
            ]
          },
          "metadata": {},
          "execution_count": 70
        }
      ]
    },
    {
      "cell_type": "code",
      "source": [
        "data.info()"
      ],
      "metadata": {
        "colab": {
          "base_uri": "https://localhost:8080/"
        },
        "id": "QgZfkALf8T3n",
        "outputId": "3704180c-185f-47ed-d8bb-9885b7fe7f1c"
      },
      "execution_count": 71,
      "outputs": [
        {
          "output_type": "stream",
          "name": "stdout",
          "text": [
            "<class 'pandas.core.frame.DataFrame'>\n",
            "RangeIndex: 22000 entries, 0 to 21999\n",
            "Data columns (total 4 columns):\n",
            " #   Column  Non-Null Count  Dtype \n",
            "---  ------  --------------  ----- \n",
            " 0   Name    22000 non-null  object\n",
            " 1   Year    22000 non-null  int64 \n",
            " 2   Miles   22000 non-null  int64 \n",
            " 3   Price   22000 non-null  int64 \n",
            "dtypes: int64(3), object(1)\n",
            "memory usage: 687.6+ KB\n"
          ]
        }
      ]
    },
    {
      "cell_type": "code",
      "source": [
        "data.dtypes"
      ],
      "metadata": {
        "colab": {
          "base_uri": "https://localhost:8080/"
        },
        "id": "7m3Rn52W8V7b",
        "outputId": "b99c65dd-0679-43d7-950f-c8267aca9830"
      },
      "execution_count": 72,
      "outputs": [
        {
          "output_type": "execute_result",
          "data": {
            "text/plain": [
              "Name     object\n",
              "Year      int64\n",
              "Miles     int64\n",
              "Price     int64\n",
              "dtype: object"
            ]
          },
          "metadata": {},
          "execution_count": 72
        }
      ]
    },
    {
      "cell_type": "code",
      "source": [
        "data.isnull().sum()"
      ],
      "metadata": {
        "colab": {
          "base_uri": "https://localhost:8080/"
        },
        "id": "qyvvbfLl8X1q",
        "outputId": "3a2cda28-18f0-4e15-ddb5-c3daa4f29cba"
      },
      "execution_count": 73,
      "outputs": [
        {
          "output_type": "execute_result",
          "data": {
            "text/plain": [
              "Name     0\n",
              "Year     0\n",
              "Miles    0\n",
              "Price    0\n",
              "dtype: int64"
            ]
          },
          "metadata": {},
          "execution_count": 73
        }
      ]
    },
    {
      "cell_type": "markdown",
      "source": [
        "There are no missing values"
      ],
      "metadata": {
        "id": "wiDTVXB8R5gJ"
      }
    },
    {
      "cell_type": "code",
      "source": [
        "data.nunique()"
      ],
      "metadata": {
        "colab": {
          "base_uri": "https://localhost:8080/"
        },
        "id": "1-Jvax4_8Z8b",
        "outputId": "32cef8ec-94e0-46bb-d5ad-dc35ff8e3883"
      },
      "execution_count": 74,
      "outputs": [
        {
          "output_type": "execute_result",
          "data": {
            "text/plain": [
              "Name      416\n",
              "Year      211\n",
              "Miles    8836\n",
              "Price     866\n",
              "dtype: int64"
            ]
          },
          "metadata": {},
          "execution_count": 74
        }
      ]
    },
    {
      "cell_type": "code",
      "source": [
        "data.Name.unique()"
      ],
      "metadata": {
        "colab": {
          "base_uri": "https://localhost:8080/"
        },
        "id": "38jbgwjD8bqw",
        "outputId": "f214afaf-2c53-490f-8a1f-6b92e02860a1"
      },
      "execution_count": 75,
      "outputs": [
        {
          "output_type": "execute_result",
          "data": {
            "text/plain": [
              "array([' Chevrolet Trax', ' GMC Terrain', ' Jeep Wrangler',\n",
              "       ' Jeep Renegade', ' BMW X', ' Buick Encore', ' Jeep Compass',\n",
              "       ' Jeep Patriot', ' Chrysler Sebring', ' Subaru Legacy',\n",
              "       ' Subaru XV Crosstrek', ' Mitsubishi Eclipse Cross',\n",
              "       ' Toyota Corolla', ' Nissan Pathfinder', ' Lincoln MKC',\n",
              "       ' Lexus ES', ' Dodge Grand Caravan Passenger', ' Ford Escape',\n",
              "       ' Mitsubishi Mirage G', ' Toyota C-HR', ' Toyota Yaris',\n",
              "       ' MAZDA CX-', ' Nissan Rogue Sport', ' Volkswagen Atlas',\n",
              "       ' MAZDA MAZDA', ' Nissan Sentra', ' Honda Civic', ' Nissan Rogue',\n",
              "       ' Toyota Corolla iM', ' Subaru Forester', ' Volkswagen Jetta',\n",
              "       ' FIAT ', ' Honda Accord', ' Hyundai Sonata', ' GMC Acadia',\n",
              "       ' Kia Optima', ' Hyundai Veloster', ' Hyundai Elantra',\n",
              "       ' FIAT  Spider', ' Honda Odyssey', ' Volkswagen Tiguan',\n",
              "       ' Acura RDX', ' Jeep Grand Cherokee', ' Chrysler Voyager',\n",
              "       ' Hyundai Accent', ' Honda CR-V', ' INFINITI QX',\n",
              "       ' Chevrolet Traverse', ' Mitsubishi Outlander Sport',\n",
              "       ' Hyundai Kona', ' Nissan Frontier King Cab', ' Chevrolet Spark',\n",
              "       ' Nissan Altima', ' Kia Soul', ' Ford Fusion', ' Ford Edge',\n",
              "       ' Chevrolet Sonic', ' Buick Enclave', ' Kia Forte', ' Scion tC',\n",
              "       ' Dodge Journey', ' Audi A Sportback e-tron',\n",
              "       ' Mitsubishi Outlander', ' Alfa Romeo Giulia', ' Chevrolet Cruze',\n",
              "       ' Nissan Kicks', ' Ford Fiesta', ' BMW  Series', ' Kia Sportage',\n",
              "       ' Ford Mustang', ' Volkswagen Passat', ' Lexus IS', ' Acura MDX',\n",
              "       ' Kia Cadenza', ' Hyundai Tucson', ' Toyota Camry',\n",
              "       ' Volkswagen Jetta SportWagen', ' MINI Hardtop  Door',\n",
              "       ' Cadillac CTS', ' Kia Sedona', ' Kia Rio', ' Ram  Regular Cab',\n",
              "       ' Chevrolet Impala', ' Chevrolet Equinox', ' Chrysler Pacifica',\n",
              "       ' Nissan Murano', ' Subaru Impreza', ' Chevrolet Volt',\n",
              "       ' MINI Coupe', ' Mercedes-Benz SLK-Class', ' Toyota Prius v',\n",
              "       ' Nissan Versa', ' FIAT  Abarth', ' Ford Explorer', ' Nissan LEAF',\n",
              "       ' Jeep Cherokee', ' FIAT X', ' Ford EcoSport', ' MINI Convertible',\n",
              "       ' Dodge Avenger', ' Chevrolet Camaro', ' Volkswagen Beetle',\n",
              "       ' Buick LaCrosse', ' Ford Focus', ' Volvo S', ' Toyota Yaris iA',\n",
              "       ' Honda Fit', ' Toyota Sienna', ' Toyota Prius', ' Chrysler ',\n",
              "       ' Nissan Maxima', ' Nissan JUKE', ' Ford F Super Cab',\n",
              "       ' Chevrolet Malibu', ' Toyota Prius c',\n",
              "       ' Volkswagen Tiguan Limited', ' Kia Optima Hybrid',\n",
              "       ' MAZDA MX- Miata', ' Honda HR-V', ' Kia Sorento',\n",
              "       ' Chevrolet Cruze Limited', ' Mercedes-Benz GLA', ' Toyota Avalon',\n",
              "       ' Dodge Charger', ' Scion FR-S', ' Chevrolet Captiva Sport',\n",
              "       ' Chevrolet Trailblazer', ' Honda CR-Z', ' BMW i', ' Acura TLX',\n",
              "       ' Kia Niro', ' Acura RLX', ' Nissan Rogue Select',\n",
              "       ' Nissan Frontier Crew Cab', ' Mercedes-Benz C-Class', ' Lexus GS',\n",
              "       ' Ford Taurus', ' MAZDA Tribute', ' Chrysler Town & Country',\n",
              "       ' Ford Flex', ' Toyota RAV', ' MINI Countryman', ' Honda Pilot',\n",
              "       ' INFINITI Q', ' Chevrolet Blazer', ' INFINITI EX', ' Dodge Dart',\n",
              "       ' MINI Clubman', ' Lexus RX', ' Toyota Tacoma Double Cab',\n",
              "       ' Hyundai Venue', ' Subaru Outback', ' Jeep Gladiator',\n",
              "       ' MINI Hardtop', ' Mitsubishi Mirage', ' Lexus GX', ' Kia Seltos',\n",
              "       ' Cadillac XT', ' Hyundai Santa Fe Sport', ' Cadillac ATS',\n",
              "       ' Toyota Runner', ' Subaru Crosstrek', ' INFINITI G', ' FIAT L',\n",
              "       ' Nissan Z', ' Volkswagen Golf SportWagen', ' Volkswagen Golf',\n",
              "       ' Mercedes-Benz E-Class', ' Volvo C', ' Kia Soul EV',\n",
              "       ' Cadillac SRX', ' smart fortwo', ' Acura ILX',\n",
              "       ' Toyota Camry Hybrid', ' Volkswagen Touareg', ' Scion iQ',\n",
              "       ' Lincoln MKX', ' MINI Roadster', ' Buick Verano',\n",
              "       ' Mercedes-Benz CLA-Class', ' Toyota Highlander', ' Kia K',\n",
              "       ' Lincoln MKZ', ' Chevrolet Colorado Extended Cab',\n",
              "       ' Buick Envision', ' Acura TSX', ' GMC Yukon',\n",
              "       ' Mercedes-Benz M-Class', ' Volkswagen Golf GTI', ' Audi Q',\n",
              "       ' Acura TL', ' Lexus CT', ' Mercedes-Benz CLA', ' Buick Cascada',\n",
              "       ' Scion xD', ' MINI Paceman', ' Hyundai Ioniq Hybrid',\n",
              "       ' Mercedes-Benz GLC', ' Chevrolet Colorado Crew Cab',\n",
              "       ' Ford F SuperCrew Cab', ' Ford Bronco Sport', ' Ford Expedition',\n",
              "       ' Chevrolet Silverado  Crew Cab', ' Chevrolet Suburban',\n",
              "       ' Nissan Armada', ' Scion iM', ' Land Rover Range Rover Evoque',\n",
              "       ' Lincoln MKS', ' Lexus LC', ' Land Rover LR', ' Hyundai Genesis',\n",
              "       ' Toyota Sequoia', ' INFINITI M', ' Land Rover Range Rover Velar',\n",
              "       ' Chevrolet Impala Limited', ' Chevrolet Spark EV',\n",
              "       ' Chevrolet Silverado  Double Cab', ' Buick Regal', ' Audi A',\n",
              "       ' Kia Telluride', ' Mercedes-Benz SL-Class', ' Dodge Durango',\n",
              "       ' Mercedes-Benz GLE', ' Honda Insight', ' Toyota Venza',\n",
              "       ' Toyota Tundra Double Cab', ' smart fortwo electric drive',\n",
              "       ' Buick Encore GX', ' Volvo XC', ' Mitsubishi i-MiEV',\n",
              "       ' Ford Fusion Energi', ' Toyota Tacoma Access Cab',\n",
              "       ' Subaru Ascent', ' Hyundai Santa Fe', ' Jeep Wrangler Unlimited',\n",
              "       ' Volkswagen Routan', ' Volkswagen Eos', ' Audi S',\n",
              "       ' GMC Acadia Limited', ' Hyundai Elantra GT',\n",
              "       ' Mercedes-Benz CLK-Class', ' GMC Yukon XL ',\n",
              "       ' Hyundai Sonata Hybrid', ' Ford Expedition MAX',\n",
              "       ' Dodge Challenger', ' Honda Crosstour',\n",
              "       ' Land Rover Range Rover Sport', ' Subaru WRX',\n",
              "       ' Ford C-MAX Energi', ' Volkswagen e-Golf', ' Volkswagen CC',\n",
              "       ' Volvo V', ' Ford Mustang MACH-E', ' Mercedes-Benz A-Class',\n",
              "       ' Volkswagen GTI', ' Ram  Crew Cab', ' Lexus HS',\n",
              "       ' Nissan Versa Note', ' Lincoln Town Car', ' Cadillac XTS',\n",
              "       ' MAZDA MX- Miata RF', ' Chevrolet Tahoe', ' Kia Forte Koup',\n",
              "       ' Scion xB', ' BMW M', ' Toyota GR', ' Tesla Model Y',\n",
              "       ' Volkswagen ID.', ' Nissan Xterra', ' Mercedes-Benz GLK-Class',\n",
              "       ' Toyota Prius Plug-in Hybrid', ' Lexus NX', ' Hyundai Azera',\n",
              "       ' Scion iA', ' Chevrolet Corvette', ' Hyundai IONIQ ',\n",
              "       ' Tesla Model ', ' Kia Carnival', ' Mercedes-Benz CLS-Class',\n",
              "       ' Tesla Model S', ' Tesla Model X', ' Jaguar F-TYPE',\n",
              "       ' Nissan Titan Crew Cab', ' Jaguar XF', ' Polestar ', ' Audi TT',\n",
              "       ' Porsche ', ' Ford Ranger SuperCrew', ' Lexus RC',\n",
              "       ' Honda Ridgeline', ' Ford F Regular Cab', ' Toyota RAV Hybrid',\n",
              "       ' Toyota Tundra CrewMax', ' GMC Sierra  Double Cab',\n",
              "       ' Kia Sorento Plug-in Hybrid', ' Ram  Quad Cab',\n",
              "       ' Kia Sorento Hybrid', ' Honda Clarity Plug-in Hybrid',\n",
              "       ' Ford Bronco', ' Honda Accord Hybrid', ' Porsche Boxster',\n",
              "       ' Porsche Macan', ' Toyota GR Supra', ' Toyota Prius Prime',\n",
              "       ' Toyota Corolla Cross', ' Genesis G', ' Mercedes-Benz SL',\n",
              "       ' Jaguar XE', ' Lincoln Corsair', ' GMC Sierra  Crew Cab',\n",
              "       ' Mercedes-Benz Mercedes-AMG GLE Coupe', ' Maserati Levante',\n",
              "       ' Cadillac CT', ' Land Rover Discovery', ' Ram  Classic Quad Cab',\n",
              "       ' Chevrolet Silverado  HD Crew Cab', ' Land Rover Discovery Sport',\n",
              "       ' Maserati Ghibli', ' Volkswagen Atlas Cross Sport',\n",
              "       ' Kia Stinger', ' BMW Z', ' Toyota FJ Cruiser',\n",
              "       ' Toyota Corolla Hatchback', ' Audi e-tron',\n",
              "       ' GMC Canyon Crew Cab', ' Chevrolet Silverado  HD Regular Cab',\n",
              "       ' Porsche  Cayman', ' Hyundai Palisade', ' Hyundai Santa Cruz',\n",
              "       ' Jaguar E-PACE', ' Toyota Corolla Hybrid',\n",
              "       ' Chevrolet Silverado  Limited Crew Cab', ' Cadillac ELR',\n",
              "       ' Hyundai Tucson Hybrid', ' Alfa Romeo C Spider',\n",
              "       ' Acura MDX Sport Hybrid', ' Honda CR-V Hybrid', ' Jaguar XJ',\n",
              "       ' Alfa Romeo Stelvio', ' Honda Passport', ' Kia EV',\n",
              "       ' Porsche Cayenne', ' Lincoln Nautilus', ' Jaguar F-PACE',\n",
              "       ' Ford Maverick', ' Mercedes-Benz S-Class', ' Lincoln Navigator',\n",
              "       ' Mitsubishi Outlander PHEV',\n",
              "       ' Mercedes-Benz Mercedes-AMG C-Class', ' Ram  Classic Crew Cab',\n",
              "       ' Toyota ', ' Mercedes-Benz GLB', ' Mercedes-Benz GLS',\n",
              "       ' Maserati Quattroporte', ' Jeep Wagoneer', ' Mercedes-Benz SLC',\n",
              "       ' Kia Niro EV', ' Jeep Grand Cherokee L',\n",
              "       ' Mercedes-Benz GLA-Class', ' GMC Sierra  Limited Crew Cab',\n",
              "       ' Mercedes-Benz Mercedes-AMG SLC', ' Honda Civic Type R',\n",
              "       ' Ford Transit Connect Passenger Wagon',\n",
              "       ' Toyota Tundra Hybrid CrewMax', ' Ford Transit  Wagon',\n",
              "       ' Lexus UX', ' Jeep Liberty', ' Porsche Panamera',\n",
              "       ' Land Rover Range Rover', ' Maserati GranTurismo',\n",
              "       ' Volkswagen Jetta GLI', ' Nissan TITAN XD Crew Cab',\n",
              "       ' Ford Expedition EL', ' Toyota Highlander Hybrid',\n",
              "       ' Ford F Lightning', ' Mercedes-Benz Mercedes-AMG GLC',\n",
              "       ' Hyundai Genesis Coupe', ' Chevrolet Bolt EV',\n",
              "       ' Cadillac Escalade ESV', ' Honda Accord Crosstour',\n",
              "       ' Nissan Quest', ' Ford Transit Connect Passenger',\n",
              "       ' Mitsubishi Lancer', ' Hyundai Veracruz', ' Pontiac Solstice',\n",
              "       ' Buick Lucerne', ' Ford Focus ST', ' Mercedes-Benz B-Class',\n",
              "       ' Subaru BRZ', ' INFINITI FX', ' Hyundai Sonata Plug-in Hybrid',\n",
              "       ' GMC Sierra  Regular Cab', ' Chevrolet Suburban ',\n",
              "       ' Hyundai Ioniq Plug-in Hybrid', ' Hyundai Equus', ' GMC Yukon XL',\n",
              "       ' Buick Regal Sportback', ' Chevrolet City Express',\n",
              "       ' smart fortwo electric drive cabrio', ' INFINITI JX',\n",
              "       ' Chevrolet Silverado  Regular Cab', ' Volkswagen Golf Alltrack',\n",
              "       ' Volkswagen New Beetle', ' Toyota Matrix',\n",
              "       ' Chevrolet Malibu Limited', ' FIAT c Abarth',\n",
              "       ' Ram  Classic Regular Cab', ' Audi allroad', ' Cadillac DTS',\n",
              "       ' Toyota Yaris Hatchback', ' Saturn SKY', ' Ford C-MAX Hybrid',\n",
              "       ' Mercedes-Benz R-Class', ' Lexus LS', ' Hyundai Ioniq Electric',\n",
              "       'Kia Sorento'], dtype=object)"
            ]
          },
          "metadata": {},
          "execution_count": 75
        }
      ]
    },
    {
      "cell_type": "code",
      "source": [
        "data.Year.unique()"
      ],
      "metadata": {
        "colab": {
          "base_uri": "https://localhost:8080/"
        },
        "id": "YE6MlJgA8d2S",
        "outputId": "809f602a-3745-4257-f12a-f727a94f08c9"
      },
      "execution_count": 76,
      "outputs": [
        {
          "output_type": "execute_result",
          "data": {
            "text/plain": [
              "array([    2018,     2020,     2012,     2019,    20173,     2016,\n",
              "           2017,     2015,     2014,     2010,    20194,    20165,\n",
              "           2013,    20133,     2011,  2013500,  2017124,     2021,\n",
              "           2022,   201650,    20163,    20215,    20113,    20152,\n",
              "       20141500,   202130,    20204,    20153,  2014500,  2016500,\n",
              "          20103,    20156,  2017500,   201040,  2013300,  2015200,\n",
              "        2013150,    20125,    20185,    20166,    20146,    20213,\n",
              "         202180,   201860,    20184,    20203,    20143,    20144,\n",
              "         201550,   202050,   202150,    20199,    20219,    20205,\n",
              "         201730,   202060,  2018500,  2015500,  2010370,   201750,\n",
              "          20174,   201360,   200970,    20193,    20145,    20164,\n",
              "          20123,    20176,  2016200,   201560,  2015900,    20161,\n",
              "        2016900,    20154,    20182,    20157,  2019500,    20183,\n",
              "          20122,    20129,    20114,  2020150, 20211500,    20135,\n",
              "          20196,  2014200, 20201500,    20195,    20134,    20169,\n",
              "         201850,  2021300,    20095,  2016300,  2013200,    20105,\n",
              "         201460,     2009,    20136,    20151,  2020300,    20115,\n",
              "          20214,   201660,    20209,    20175,   201980,    20172,\n",
              "        2012300,  2018300,   201450, 20151500,   201540,   201960,\n",
              "          20202,   202286,    20186,   201760,    20155,    20112,\n",
              "          20212,    20225,    20232,    20206,    20111, 20171500,\n",
              "         202140,  2019124,   202260,    20181,   201940,    20222,\n",
              "        2018150,  2013911,  2021150,    20224, 20161500,    20223,\n",
              "       20191500,  2016370,   201950,   202230, 20222500, 20223500,\n",
              "       20181500,  2014370, 20221500,   201570,   201890,   201880,\n",
              "          20162,  2017718,    20124,  2017150,  2017370,   201790,\n",
              "         202090,  2022150,   201990,    20226,    20201,   201930,\n",
              "          20216, 20152500,    20147,   201970,   201886,  2016150,\n",
              "        2018718,    20191,    20189,  2015300,   201690,   202270,\n",
              "         202160,    20187,     2023,    20149,   201270,    20211,\n",
              "        2019150,   202030,    20192,   201780,    20171,  2018124,\n",
              "        2019300,    20128,    20093,   201830,    20096,   201260,\n",
              "        2012200,  2012500,  2017200,    20127,    20101,    20126,\n",
              "         201770,  2017300,    20094,  2011200, 20131500,  2014300,\n",
              "          20141,    20131,    20104,    20139,    20132,  2011370,\n",
              "          20142])"
            ]
          },
          "metadata": {},
          "execution_count": 76
        }
      ]
    },
    {
      "cell_type": "markdown",
      "source": [
        "The 'Year' column needs to be cleaned as some of them contain, month and date."
      ],
      "metadata": {
        "id": "QBGP2JapR-60"
      }
    },
    {
      "cell_type": "code",
      "source": [
        "df =data['Year']"
      ],
      "metadata": {
        "id": "s8UunNHa8g_J"
      },
      "execution_count": 77,
      "outputs": []
    },
    {
      "cell_type": "code",
      "source": [
        "df['yy']=df.astype(str).str[:4] #select the first 4 digits that indicates year"
      ],
      "metadata": {
        "colab": {
          "base_uri": "https://localhost:8080/"
        },
        "id": "b0eNOPsl8jqt",
        "outputId": "6c285829-ca6e-437c-85d3-2068b2a75ea7"
      },
      "execution_count": 78,
      "outputs": [
        {
          "output_type": "stream",
          "name": "stderr",
          "text": [
            "<ipython-input-78-d5fddca3f1d6>:1: SettingWithCopyWarning: \n",
            "A value is trying to be set on a copy of a slice from a DataFrame\n",
            "\n",
            "See the caveats in the documentation: https://pandas.pydata.org/pandas-docs/stable/user_guide/indexing.html#returning-a-view-versus-a-copy\n",
            "  df['yy']=df.astype(str).str[:4] #select the first 4 digits that indicates year\n"
          ]
        }
      ]
    },
    {
      "cell_type": "code",
      "source": [
        "data=data.drop(['Year'], axis=1)\n",
        "data.head()"
      ],
      "metadata": {
        "colab": {
          "base_uri": "https://localhost:8080/",
          "height": 206
        },
        "id": "MQe8cM7K8mKf",
        "outputId": "294112ab-401c-44f6-a8bd-253001afeccc"
      },
      "execution_count": 79,
      "outputs": [
        {
          "output_type": "execute_result",
          "data": {
            "text/plain": [
              "              Name  Miles  Price\n",
              "0   Chevrolet Trax  41946  16990\n",
              "1      GMC Terrain  45328  23990\n",
              "2    Jeep Wrangler  81068  21590\n",
              "3    Jeep Renegade  35372  21590\n",
              "4            BMW X  68992  22990"
            ],
            "text/html": [
              "\n",
              "  <div id=\"df-281af1e0-b0fc-40a8-952e-22efa96b3b5c\">\n",
              "    <div class=\"colab-df-container\">\n",
              "      <div>\n",
              "<style scoped>\n",
              "    .dataframe tbody tr th:only-of-type {\n",
              "        vertical-align: middle;\n",
              "    }\n",
              "\n",
              "    .dataframe tbody tr th {\n",
              "        vertical-align: top;\n",
              "    }\n",
              "\n",
              "    .dataframe thead th {\n",
              "        text-align: right;\n",
              "    }\n",
              "</style>\n",
              "<table border=\"1\" class=\"dataframe\">\n",
              "  <thead>\n",
              "    <tr style=\"text-align: right;\">\n",
              "      <th></th>\n",
              "      <th>Name</th>\n",
              "      <th>Miles</th>\n",
              "      <th>Price</th>\n",
              "    </tr>\n",
              "  </thead>\n",
              "  <tbody>\n",
              "    <tr>\n",
              "      <th>0</th>\n",
              "      <td>Chevrolet Trax</td>\n",
              "      <td>41946</td>\n",
              "      <td>16990</td>\n",
              "    </tr>\n",
              "    <tr>\n",
              "      <th>1</th>\n",
              "      <td>GMC Terrain</td>\n",
              "      <td>45328</td>\n",
              "      <td>23990</td>\n",
              "    </tr>\n",
              "    <tr>\n",
              "      <th>2</th>\n",
              "      <td>Jeep Wrangler</td>\n",
              "      <td>81068</td>\n",
              "      <td>21590</td>\n",
              "    </tr>\n",
              "    <tr>\n",
              "      <th>3</th>\n",
              "      <td>Jeep Renegade</td>\n",
              "      <td>35372</td>\n",
              "      <td>21590</td>\n",
              "    </tr>\n",
              "    <tr>\n",
              "      <th>4</th>\n",
              "      <td>BMW X</td>\n",
              "      <td>68992</td>\n",
              "      <td>22990</td>\n",
              "    </tr>\n",
              "  </tbody>\n",
              "</table>\n",
              "</div>\n",
              "      <button class=\"colab-df-convert\" onclick=\"convertToInteractive('df-281af1e0-b0fc-40a8-952e-22efa96b3b5c')\"\n",
              "              title=\"Convert this dataframe to an interactive table.\"\n",
              "              style=\"display:none;\">\n",
              "        \n",
              "  <svg xmlns=\"http://www.w3.org/2000/svg\" height=\"24px\"viewBox=\"0 0 24 24\"\n",
              "       width=\"24px\">\n",
              "    <path d=\"M0 0h24v24H0V0z\" fill=\"none\"/>\n",
              "    <path d=\"M18.56 5.44l.94 2.06.94-2.06 2.06-.94-2.06-.94-.94-2.06-.94 2.06-2.06.94zm-11 1L8.5 8.5l.94-2.06 2.06-.94-2.06-.94L8.5 2.5l-.94 2.06-2.06.94zm10 10l.94 2.06.94-2.06 2.06-.94-2.06-.94-.94-2.06-.94 2.06-2.06.94z\"/><path d=\"M17.41 7.96l-1.37-1.37c-.4-.4-.92-.59-1.43-.59-.52 0-1.04.2-1.43.59L10.3 9.45l-7.72 7.72c-.78.78-.78 2.05 0 2.83L4 21.41c.39.39.9.59 1.41.59.51 0 1.02-.2 1.41-.59l7.78-7.78 2.81-2.81c.8-.78.8-2.07 0-2.86zM5.41 20L4 18.59l7.72-7.72 1.47 1.35L5.41 20z\"/>\n",
              "  </svg>\n",
              "      </button>\n",
              "      \n",
              "  <style>\n",
              "    .colab-df-container {\n",
              "      display:flex;\n",
              "      flex-wrap:wrap;\n",
              "      gap: 12px;\n",
              "    }\n",
              "\n",
              "    .colab-df-convert {\n",
              "      background-color: #E8F0FE;\n",
              "      border: none;\n",
              "      border-radius: 50%;\n",
              "      cursor: pointer;\n",
              "      display: none;\n",
              "      fill: #1967D2;\n",
              "      height: 32px;\n",
              "      padding: 0 0 0 0;\n",
              "      width: 32px;\n",
              "    }\n",
              "\n",
              "    .colab-df-convert:hover {\n",
              "      background-color: #E2EBFA;\n",
              "      box-shadow: 0px 1px 2px rgba(60, 64, 67, 0.3), 0px 1px 3px 1px rgba(60, 64, 67, 0.15);\n",
              "      fill: #174EA6;\n",
              "    }\n",
              "\n",
              "    [theme=dark] .colab-df-convert {\n",
              "      background-color: #3B4455;\n",
              "      fill: #D2E3FC;\n",
              "    }\n",
              "\n",
              "    [theme=dark] .colab-df-convert:hover {\n",
              "      background-color: #434B5C;\n",
              "      box-shadow: 0px 1px 3px 1px rgba(0, 0, 0, 0.15);\n",
              "      filter: drop-shadow(0px 1px 2px rgba(0, 0, 0, 0.3));\n",
              "      fill: #FFFFFF;\n",
              "    }\n",
              "  </style>\n",
              "\n",
              "      <script>\n",
              "        const buttonEl =\n",
              "          document.querySelector('#df-281af1e0-b0fc-40a8-952e-22efa96b3b5c button.colab-df-convert');\n",
              "        buttonEl.style.display =\n",
              "          google.colab.kernel.accessAllowed ? 'block' : 'none';\n",
              "\n",
              "        async function convertToInteractive(key) {\n",
              "          const element = document.querySelector('#df-281af1e0-b0fc-40a8-952e-22efa96b3b5c');\n",
              "          const dataTable =\n",
              "            await google.colab.kernel.invokeFunction('convertToInteractive',\n",
              "                                                     [key], {});\n",
              "          if (!dataTable) return;\n",
              "\n",
              "          const docLinkHtml = 'Like what you see? Visit the ' +\n",
              "            '<a target=\"_blank\" href=https://colab.research.google.com/notebooks/data_table.ipynb>data table notebook</a>'\n",
              "            + ' to learn more about interactive tables.';\n",
              "          element.innerHTML = '';\n",
              "          dataTable['output_type'] = 'display_data';\n",
              "          await google.colab.output.renderOutput(dataTable, element);\n",
              "          const docLink = document.createElement('div');\n",
              "          docLink.innerHTML = docLinkHtml;\n",
              "          element.appendChild(docLink);\n",
              "        }\n",
              "      </script>\n",
              "    </div>\n",
              "  </div>\n",
              "  "
            ]
          },
          "metadata": {},
          "execution_count": 79
        }
      ]
    },
    {
      "cell_type": "code",
      "source": [
        "df1=pd.concat([data , df['yy']], axis=1)\n",
        "df1.head()"
      ],
      "metadata": {
        "colab": {
          "base_uri": "https://localhost:8080/",
          "height": 206
        },
        "id": "SqnlFgz78ojn",
        "outputId": "7cf841bf-a860-42bf-b966-6457cf436522"
      },
      "execution_count": 80,
      "outputs": [
        {
          "output_type": "execute_result",
          "data": {
            "text/plain": [
              "              Name  Miles  Price  Year\n",
              "0   Chevrolet Trax  41946  16990  2018\n",
              "1      GMC Terrain  45328  23990  2020\n",
              "2    Jeep Wrangler  81068  21590  2012\n",
              "3    Jeep Renegade  35372  21590  2019\n",
              "4            BMW X  68992  22990  2017"
            ],
            "text/html": [
              "\n",
              "  <div id=\"df-b2c5fe70-85a6-456b-88fe-c106a3d72788\">\n",
              "    <div class=\"colab-df-container\">\n",
              "      <div>\n",
              "<style scoped>\n",
              "    .dataframe tbody tr th:only-of-type {\n",
              "        vertical-align: middle;\n",
              "    }\n",
              "\n",
              "    .dataframe tbody tr th {\n",
              "        vertical-align: top;\n",
              "    }\n",
              "\n",
              "    .dataframe thead th {\n",
              "        text-align: right;\n",
              "    }\n",
              "</style>\n",
              "<table border=\"1\" class=\"dataframe\">\n",
              "  <thead>\n",
              "    <tr style=\"text-align: right;\">\n",
              "      <th></th>\n",
              "      <th>Name</th>\n",
              "      <th>Miles</th>\n",
              "      <th>Price</th>\n",
              "      <th>Year</th>\n",
              "    </tr>\n",
              "  </thead>\n",
              "  <tbody>\n",
              "    <tr>\n",
              "      <th>0</th>\n",
              "      <td>Chevrolet Trax</td>\n",
              "      <td>41946</td>\n",
              "      <td>16990</td>\n",
              "      <td>2018</td>\n",
              "    </tr>\n",
              "    <tr>\n",
              "      <th>1</th>\n",
              "      <td>GMC Terrain</td>\n",
              "      <td>45328</td>\n",
              "      <td>23990</td>\n",
              "      <td>2020</td>\n",
              "    </tr>\n",
              "    <tr>\n",
              "      <th>2</th>\n",
              "      <td>Jeep Wrangler</td>\n",
              "      <td>81068</td>\n",
              "      <td>21590</td>\n",
              "      <td>2012</td>\n",
              "    </tr>\n",
              "    <tr>\n",
              "      <th>3</th>\n",
              "      <td>Jeep Renegade</td>\n",
              "      <td>35372</td>\n",
              "      <td>21590</td>\n",
              "      <td>2019</td>\n",
              "    </tr>\n",
              "    <tr>\n",
              "      <th>4</th>\n",
              "      <td>BMW X</td>\n",
              "      <td>68992</td>\n",
              "      <td>22990</td>\n",
              "      <td>2017</td>\n",
              "    </tr>\n",
              "  </tbody>\n",
              "</table>\n",
              "</div>\n",
              "      <button class=\"colab-df-convert\" onclick=\"convertToInteractive('df-b2c5fe70-85a6-456b-88fe-c106a3d72788')\"\n",
              "              title=\"Convert this dataframe to an interactive table.\"\n",
              "              style=\"display:none;\">\n",
              "        \n",
              "  <svg xmlns=\"http://www.w3.org/2000/svg\" height=\"24px\"viewBox=\"0 0 24 24\"\n",
              "       width=\"24px\">\n",
              "    <path d=\"M0 0h24v24H0V0z\" fill=\"none\"/>\n",
              "    <path d=\"M18.56 5.44l.94 2.06.94-2.06 2.06-.94-2.06-.94-.94-2.06-.94 2.06-2.06.94zm-11 1L8.5 8.5l.94-2.06 2.06-.94-2.06-.94L8.5 2.5l-.94 2.06-2.06.94zm10 10l.94 2.06.94-2.06 2.06-.94-2.06-.94-.94-2.06-.94 2.06-2.06.94z\"/><path d=\"M17.41 7.96l-1.37-1.37c-.4-.4-.92-.59-1.43-.59-.52 0-1.04.2-1.43.59L10.3 9.45l-7.72 7.72c-.78.78-.78 2.05 0 2.83L4 21.41c.39.39.9.59 1.41.59.51 0 1.02-.2 1.41-.59l7.78-7.78 2.81-2.81c.8-.78.8-2.07 0-2.86zM5.41 20L4 18.59l7.72-7.72 1.47 1.35L5.41 20z\"/>\n",
              "  </svg>\n",
              "      </button>\n",
              "      \n",
              "  <style>\n",
              "    .colab-df-container {\n",
              "      display:flex;\n",
              "      flex-wrap:wrap;\n",
              "      gap: 12px;\n",
              "    }\n",
              "\n",
              "    .colab-df-convert {\n",
              "      background-color: #E8F0FE;\n",
              "      border: none;\n",
              "      border-radius: 50%;\n",
              "      cursor: pointer;\n",
              "      display: none;\n",
              "      fill: #1967D2;\n",
              "      height: 32px;\n",
              "      padding: 0 0 0 0;\n",
              "      width: 32px;\n",
              "    }\n",
              "\n",
              "    .colab-df-convert:hover {\n",
              "      background-color: #E2EBFA;\n",
              "      box-shadow: 0px 1px 2px rgba(60, 64, 67, 0.3), 0px 1px 3px 1px rgba(60, 64, 67, 0.15);\n",
              "      fill: #174EA6;\n",
              "    }\n",
              "\n",
              "    [theme=dark] .colab-df-convert {\n",
              "      background-color: #3B4455;\n",
              "      fill: #D2E3FC;\n",
              "    }\n",
              "\n",
              "    [theme=dark] .colab-df-convert:hover {\n",
              "      background-color: #434B5C;\n",
              "      box-shadow: 0px 1px 3px 1px rgba(0, 0, 0, 0.15);\n",
              "      filter: drop-shadow(0px 1px 2px rgba(0, 0, 0, 0.3));\n",
              "      fill: #FFFFFF;\n",
              "    }\n",
              "  </style>\n",
              "\n",
              "      <script>\n",
              "        const buttonEl =\n",
              "          document.querySelector('#df-b2c5fe70-85a6-456b-88fe-c106a3d72788 button.colab-df-convert');\n",
              "        buttonEl.style.display =\n",
              "          google.colab.kernel.accessAllowed ? 'block' : 'none';\n",
              "\n",
              "        async function convertToInteractive(key) {\n",
              "          const element = document.querySelector('#df-b2c5fe70-85a6-456b-88fe-c106a3d72788');\n",
              "          const dataTable =\n",
              "            await google.colab.kernel.invokeFunction('convertToInteractive',\n",
              "                                                     [key], {});\n",
              "          if (!dataTable) return;\n",
              "\n",
              "          const docLinkHtml = 'Like what you see? Visit the ' +\n",
              "            '<a target=\"_blank\" href=https://colab.research.google.com/notebooks/data_table.ipynb>data table notebook</a>'\n",
              "            + ' to learn more about interactive tables.';\n",
              "          element.innerHTML = '';\n",
              "          dataTable['output_type'] = 'display_data';\n",
              "          await google.colab.output.renderOutput(dataTable, element);\n",
              "          const docLink = document.createElement('div');\n",
              "          docLink.innerHTML = docLinkHtml;\n",
              "          element.appendChild(docLink);\n",
              "        }\n",
              "      </script>\n",
              "    </div>\n",
              "  </div>\n",
              "  "
            ]
          },
          "metadata": {},
          "execution_count": 80
        }
      ]
    },
    {
      "cell_type": "code",
      "source": [
        "df2=df1['Price']\n",
        "df2"
      ],
      "metadata": {
        "colab": {
          "base_uri": "https://localhost:8080/"
        },
        "id": "nr3l9BqX8rA8",
        "outputId": "95436bd7-7cda-402c-fd10-7b94cafbcaf6"
      },
      "execution_count": 81,
      "outputs": [
        {
          "output_type": "execute_result",
          "data": {
            "text/plain": [
              "0        16990\n",
              "1        23990\n",
              "2        21590\n",
              "3        21590\n",
              "4        22990\n",
              "         ...  \n",
              "21995    17590\n",
              "21996    23990\n",
              "21997    16990\n",
              "21998    23990\n",
              "21999    14990\n",
              "Name: Price, Length: 22000, dtype: int64"
            ]
          },
          "metadata": {},
          "execution_count": 81
        }
      ]
    },
    {
      "cell_type": "code",
      "source": [
        "df1=df1.drop(['Price'], axis=1)\n",
        "df1"
      ],
      "metadata": {
        "colab": {
          "base_uri": "https://localhost:8080/",
          "height": 423
        },
        "id": "4CI_eiu18sxZ",
        "outputId": "742208d8-f0c0-455c-bc4c-6722409d9e74"
      },
      "execution_count": 82,
      "outputs": [
        {
          "output_type": "execute_result",
          "data": {
            "text/plain": [
              "                            Name  Miles  Year\n",
              "0                 Chevrolet Trax  41946  2018\n",
              "1                    GMC Terrain  45328  2020\n",
              "2                  Jeep Wrangler  81068  2012\n",
              "3                  Jeep Renegade  35372  2019\n",
              "4                          BMW X  68992  2017\n",
              "...                          ...    ...   ...\n",
              "21995               Honda Accord  98085  2014\n",
              "21996              Dodge Charger  62616  2016\n",
              "21997                Ford Taurus  50345  2013\n",
              "21998   Toyota Corolla Hatchback  27945  2020\n",
              "21999                Honda Civic  70676  2012\n",
              "\n",
              "[22000 rows x 3 columns]"
            ],
            "text/html": [
              "\n",
              "  <div id=\"df-d921405d-fcce-4eb6-8ea0-e07863b75849\">\n",
              "    <div class=\"colab-df-container\">\n",
              "      <div>\n",
              "<style scoped>\n",
              "    .dataframe tbody tr th:only-of-type {\n",
              "        vertical-align: middle;\n",
              "    }\n",
              "\n",
              "    .dataframe tbody tr th {\n",
              "        vertical-align: top;\n",
              "    }\n",
              "\n",
              "    .dataframe thead th {\n",
              "        text-align: right;\n",
              "    }\n",
              "</style>\n",
              "<table border=\"1\" class=\"dataframe\">\n",
              "  <thead>\n",
              "    <tr style=\"text-align: right;\">\n",
              "      <th></th>\n",
              "      <th>Name</th>\n",
              "      <th>Miles</th>\n",
              "      <th>Year</th>\n",
              "    </tr>\n",
              "  </thead>\n",
              "  <tbody>\n",
              "    <tr>\n",
              "      <th>0</th>\n",
              "      <td>Chevrolet Trax</td>\n",
              "      <td>41946</td>\n",
              "      <td>2018</td>\n",
              "    </tr>\n",
              "    <tr>\n",
              "      <th>1</th>\n",
              "      <td>GMC Terrain</td>\n",
              "      <td>45328</td>\n",
              "      <td>2020</td>\n",
              "    </tr>\n",
              "    <tr>\n",
              "      <th>2</th>\n",
              "      <td>Jeep Wrangler</td>\n",
              "      <td>81068</td>\n",
              "      <td>2012</td>\n",
              "    </tr>\n",
              "    <tr>\n",
              "      <th>3</th>\n",
              "      <td>Jeep Renegade</td>\n",
              "      <td>35372</td>\n",
              "      <td>2019</td>\n",
              "    </tr>\n",
              "    <tr>\n",
              "      <th>4</th>\n",
              "      <td>BMW X</td>\n",
              "      <td>68992</td>\n",
              "      <td>2017</td>\n",
              "    </tr>\n",
              "    <tr>\n",
              "      <th>...</th>\n",
              "      <td>...</td>\n",
              "      <td>...</td>\n",
              "      <td>...</td>\n",
              "    </tr>\n",
              "    <tr>\n",
              "      <th>21995</th>\n",
              "      <td>Honda Accord</td>\n",
              "      <td>98085</td>\n",
              "      <td>2014</td>\n",
              "    </tr>\n",
              "    <tr>\n",
              "      <th>21996</th>\n",
              "      <td>Dodge Charger</td>\n",
              "      <td>62616</td>\n",
              "      <td>2016</td>\n",
              "    </tr>\n",
              "    <tr>\n",
              "      <th>21997</th>\n",
              "      <td>Ford Taurus</td>\n",
              "      <td>50345</td>\n",
              "      <td>2013</td>\n",
              "    </tr>\n",
              "    <tr>\n",
              "      <th>21998</th>\n",
              "      <td>Toyota Corolla Hatchback</td>\n",
              "      <td>27945</td>\n",
              "      <td>2020</td>\n",
              "    </tr>\n",
              "    <tr>\n",
              "      <th>21999</th>\n",
              "      <td>Honda Civic</td>\n",
              "      <td>70676</td>\n",
              "      <td>2012</td>\n",
              "    </tr>\n",
              "  </tbody>\n",
              "</table>\n",
              "<p>22000 rows × 3 columns</p>\n",
              "</div>\n",
              "      <button class=\"colab-df-convert\" onclick=\"convertToInteractive('df-d921405d-fcce-4eb6-8ea0-e07863b75849')\"\n",
              "              title=\"Convert this dataframe to an interactive table.\"\n",
              "              style=\"display:none;\">\n",
              "        \n",
              "  <svg xmlns=\"http://www.w3.org/2000/svg\" height=\"24px\"viewBox=\"0 0 24 24\"\n",
              "       width=\"24px\">\n",
              "    <path d=\"M0 0h24v24H0V0z\" fill=\"none\"/>\n",
              "    <path d=\"M18.56 5.44l.94 2.06.94-2.06 2.06-.94-2.06-.94-.94-2.06-.94 2.06-2.06.94zm-11 1L8.5 8.5l.94-2.06 2.06-.94-2.06-.94L8.5 2.5l-.94 2.06-2.06.94zm10 10l.94 2.06.94-2.06 2.06-.94-2.06-.94-.94-2.06-.94 2.06-2.06.94z\"/><path d=\"M17.41 7.96l-1.37-1.37c-.4-.4-.92-.59-1.43-.59-.52 0-1.04.2-1.43.59L10.3 9.45l-7.72 7.72c-.78.78-.78 2.05 0 2.83L4 21.41c.39.39.9.59 1.41.59.51 0 1.02-.2 1.41-.59l7.78-7.78 2.81-2.81c.8-.78.8-2.07 0-2.86zM5.41 20L4 18.59l7.72-7.72 1.47 1.35L5.41 20z\"/>\n",
              "  </svg>\n",
              "      </button>\n",
              "      \n",
              "  <style>\n",
              "    .colab-df-container {\n",
              "      display:flex;\n",
              "      flex-wrap:wrap;\n",
              "      gap: 12px;\n",
              "    }\n",
              "\n",
              "    .colab-df-convert {\n",
              "      background-color: #E8F0FE;\n",
              "      border: none;\n",
              "      border-radius: 50%;\n",
              "      cursor: pointer;\n",
              "      display: none;\n",
              "      fill: #1967D2;\n",
              "      height: 32px;\n",
              "      padding: 0 0 0 0;\n",
              "      width: 32px;\n",
              "    }\n",
              "\n",
              "    .colab-df-convert:hover {\n",
              "      background-color: #E2EBFA;\n",
              "      box-shadow: 0px 1px 2px rgba(60, 64, 67, 0.3), 0px 1px 3px 1px rgba(60, 64, 67, 0.15);\n",
              "      fill: #174EA6;\n",
              "    }\n",
              "\n",
              "    [theme=dark] .colab-df-convert {\n",
              "      background-color: #3B4455;\n",
              "      fill: #D2E3FC;\n",
              "    }\n",
              "\n",
              "    [theme=dark] .colab-df-convert:hover {\n",
              "      background-color: #434B5C;\n",
              "      box-shadow: 0px 1px 3px 1px rgba(0, 0, 0, 0.15);\n",
              "      filter: drop-shadow(0px 1px 2px rgba(0, 0, 0, 0.3));\n",
              "      fill: #FFFFFF;\n",
              "    }\n",
              "  </style>\n",
              "\n",
              "      <script>\n",
              "        const buttonEl =\n",
              "          document.querySelector('#df-d921405d-fcce-4eb6-8ea0-e07863b75849 button.colab-df-convert');\n",
              "        buttonEl.style.display =\n",
              "          google.colab.kernel.accessAllowed ? 'block' : 'none';\n",
              "\n",
              "        async function convertToInteractive(key) {\n",
              "          const element = document.querySelector('#df-d921405d-fcce-4eb6-8ea0-e07863b75849');\n",
              "          const dataTable =\n",
              "            await google.colab.kernel.invokeFunction('convertToInteractive',\n",
              "                                                     [key], {});\n",
              "          if (!dataTable) return;\n",
              "\n",
              "          const docLinkHtml = 'Like what you see? Visit the ' +\n",
              "            '<a target=\"_blank\" href=https://colab.research.google.com/notebooks/data_table.ipynb>data table notebook</a>'\n",
              "            + ' to learn more about interactive tables.';\n",
              "          element.innerHTML = '';\n",
              "          dataTable['output_type'] = 'display_data';\n",
              "          await google.colab.output.renderOutput(dataTable, element);\n",
              "          const docLink = document.createElement('div');\n",
              "          docLink.innerHTML = docLinkHtml;\n",
              "          element.appendChild(docLink);\n",
              "        }\n",
              "      </script>\n",
              "    </div>\n",
              "  </div>\n",
              "  "
            ]
          },
          "metadata": {},
          "execution_count": 82
        }
      ]
    },
    {
      "cell_type": "markdown",
      "source": [
        "The column, 'Name' is a categorical column. we need to convert into numeric using label encoder."
      ],
      "metadata": {
        "id": "i-b81uF1SGgr"
      }
    },
    {
      "cell_type": "code",
      "source": [
        "from sklearn.preprocessing import LabelEncoder\n",
        "le=LabelEncoder()"
      ],
      "metadata": {
        "id": "p-UEviYm8uqW"
      },
      "execution_count": 83,
      "outputs": []
    },
    {
      "cell_type": "code",
      "source": [
        "data1=le.fit_transform(df1['Name'])\n",
        "data1"
      ],
      "metadata": {
        "colab": {
          "base_uri": "https://localhost:8080/"
        },
        "id": "VyVGmzCW8wvE",
        "outputId": "d9d0d4f4-54c6-4145-a5f7-38e6ba8776ee"
      },
      "execution_count": 84,
      "outputs": [
        {
          "output_type": "execute_result",
          "data": {
            "text/plain": [
              "array([ 71, 127, 195, ..., 116, 359, 138])"
            ]
          },
          "metadata": {},
          "execution_count": 84
        }
      ]
    },
    {
      "cell_type": "code",
      "source": [
        "data1=pd.DataFrame(data1) # convert the array into a dataframe"
      ],
      "metadata": {
        "id": "9wzvkSG28yVh"
      },
      "execution_count": 85,
      "outputs": []
    },
    {
      "cell_type": "code",
      "source": [
        "df1=df1.drop(['Name'], axis=1)\n",
        "df1"
      ],
      "metadata": {
        "colab": {
          "base_uri": "https://localhost:8080/",
          "height": 423
        },
        "id": "d5lm6Ebn80L9",
        "outputId": "ced1fa6e-1393-47e8-e11c-fe919efa9877"
      },
      "execution_count": 86,
      "outputs": [
        {
          "output_type": "execute_result",
          "data": {
            "text/plain": [
              "       Miles  Year\n",
              "0      41946  2018\n",
              "1      45328  2020\n",
              "2      81068  2012\n",
              "3      35372  2019\n",
              "4      68992  2017\n",
              "...      ...   ...\n",
              "21995  98085  2014\n",
              "21996  62616  2016\n",
              "21997  50345  2013\n",
              "21998  27945  2020\n",
              "21999  70676  2012\n",
              "\n",
              "[22000 rows x 2 columns]"
            ],
            "text/html": [
              "\n",
              "  <div id=\"df-02de9a72-21e1-4796-97d5-7d95acd1f410\">\n",
              "    <div class=\"colab-df-container\">\n",
              "      <div>\n",
              "<style scoped>\n",
              "    .dataframe tbody tr th:only-of-type {\n",
              "        vertical-align: middle;\n",
              "    }\n",
              "\n",
              "    .dataframe tbody tr th {\n",
              "        vertical-align: top;\n",
              "    }\n",
              "\n",
              "    .dataframe thead th {\n",
              "        text-align: right;\n",
              "    }\n",
              "</style>\n",
              "<table border=\"1\" class=\"dataframe\">\n",
              "  <thead>\n",
              "    <tr style=\"text-align: right;\">\n",
              "      <th></th>\n",
              "      <th>Miles</th>\n",
              "      <th>Year</th>\n",
              "    </tr>\n",
              "  </thead>\n",
              "  <tbody>\n",
              "    <tr>\n",
              "      <th>0</th>\n",
              "      <td>41946</td>\n",
              "      <td>2018</td>\n",
              "    </tr>\n",
              "    <tr>\n",
              "      <th>1</th>\n",
              "      <td>45328</td>\n",
              "      <td>2020</td>\n",
              "    </tr>\n",
              "    <tr>\n",
              "      <th>2</th>\n",
              "      <td>81068</td>\n",
              "      <td>2012</td>\n",
              "    </tr>\n",
              "    <tr>\n",
              "      <th>3</th>\n",
              "      <td>35372</td>\n",
              "      <td>2019</td>\n",
              "    </tr>\n",
              "    <tr>\n",
              "      <th>4</th>\n",
              "      <td>68992</td>\n",
              "      <td>2017</td>\n",
              "    </tr>\n",
              "    <tr>\n",
              "      <th>...</th>\n",
              "      <td>...</td>\n",
              "      <td>...</td>\n",
              "    </tr>\n",
              "    <tr>\n",
              "      <th>21995</th>\n",
              "      <td>98085</td>\n",
              "      <td>2014</td>\n",
              "    </tr>\n",
              "    <tr>\n",
              "      <th>21996</th>\n",
              "      <td>62616</td>\n",
              "      <td>2016</td>\n",
              "    </tr>\n",
              "    <tr>\n",
              "      <th>21997</th>\n",
              "      <td>50345</td>\n",
              "      <td>2013</td>\n",
              "    </tr>\n",
              "    <tr>\n",
              "      <th>21998</th>\n",
              "      <td>27945</td>\n",
              "      <td>2020</td>\n",
              "    </tr>\n",
              "    <tr>\n",
              "      <th>21999</th>\n",
              "      <td>70676</td>\n",
              "      <td>2012</td>\n",
              "    </tr>\n",
              "  </tbody>\n",
              "</table>\n",
              "<p>22000 rows × 2 columns</p>\n",
              "</div>\n",
              "      <button class=\"colab-df-convert\" onclick=\"convertToInteractive('df-02de9a72-21e1-4796-97d5-7d95acd1f410')\"\n",
              "              title=\"Convert this dataframe to an interactive table.\"\n",
              "              style=\"display:none;\">\n",
              "        \n",
              "  <svg xmlns=\"http://www.w3.org/2000/svg\" height=\"24px\"viewBox=\"0 0 24 24\"\n",
              "       width=\"24px\">\n",
              "    <path d=\"M0 0h24v24H0V0z\" fill=\"none\"/>\n",
              "    <path d=\"M18.56 5.44l.94 2.06.94-2.06 2.06-.94-2.06-.94-.94-2.06-.94 2.06-2.06.94zm-11 1L8.5 8.5l.94-2.06 2.06-.94-2.06-.94L8.5 2.5l-.94 2.06-2.06.94zm10 10l.94 2.06.94-2.06 2.06-.94-2.06-.94-.94-2.06-.94 2.06-2.06.94z\"/><path d=\"M17.41 7.96l-1.37-1.37c-.4-.4-.92-.59-1.43-.59-.52 0-1.04.2-1.43.59L10.3 9.45l-7.72 7.72c-.78.78-.78 2.05 0 2.83L4 21.41c.39.39.9.59 1.41.59.51 0 1.02-.2 1.41-.59l7.78-7.78 2.81-2.81c.8-.78.8-2.07 0-2.86zM5.41 20L4 18.59l7.72-7.72 1.47 1.35L5.41 20z\"/>\n",
              "  </svg>\n",
              "      </button>\n",
              "      \n",
              "  <style>\n",
              "    .colab-df-container {\n",
              "      display:flex;\n",
              "      flex-wrap:wrap;\n",
              "      gap: 12px;\n",
              "    }\n",
              "\n",
              "    .colab-df-convert {\n",
              "      background-color: #E8F0FE;\n",
              "      border: none;\n",
              "      border-radius: 50%;\n",
              "      cursor: pointer;\n",
              "      display: none;\n",
              "      fill: #1967D2;\n",
              "      height: 32px;\n",
              "      padding: 0 0 0 0;\n",
              "      width: 32px;\n",
              "    }\n",
              "\n",
              "    .colab-df-convert:hover {\n",
              "      background-color: #E2EBFA;\n",
              "      box-shadow: 0px 1px 2px rgba(60, 64, 67, 0.3), 0px 1px 3px 1px rgba(60, 64, 67, 0.15);\n",
              "      fill: #174EA6;\n",
              "    }\n",
              "\n",
              "    [theme=dark] .colab-df-convert {\n",
              "      background-color: #3B4455;\n",
              "      fill: #D2E3FC;\n",
              "    }\n",
              "\n",
              "    [theme=dark] .colab-df-convert:hover {\n",
              "      background-color: #434B5C;\n",
              "      box-shadow: 0px 1px 3px 1px rgba(0, 0, 0, 0.15);\n",
              "      filter: drop-shadow(0px 1px 2px rgba(0, 0, 0, 0.3));\n",
              "      fill: #FFFFFF;\n",
              "    }\n",
              "  </style>\n",
              "\n",
              "      <script>\n",
              "        const buttonEl =\n",
              "          document.querySelector('#df-02de9a72-21e1-4796-97d5-7d95acd1f410 button.colab-df-convert');\n",
              "        buttonEl.style.display =\n",
              "          google.colab.kernel.accessAllowed ? 'block' : 'none';\n",
              "\n",
              "        async function convertToInteractive(key) {\n",
              "          const element = document.querySelector('#df-02de9a72-21e1-4796-97d5-7d95acd1f410');\n",
              "          const dataTable =\n",
              "            await google.colab.kernel.invokeFunction('convertToInteractive',\n",
              "                                                     [key], {});\n",
              "          if (!dataTable) return;\n",
              "\n",
              "          const docLinkHtml = 'Like what you see? Visit the ' +\n",
              "            '<a target=\"_blank\" href=https://colab.research.google.com/notebooks/data_table.ipynb>data table notebook</a>'\n",
              "            + ' to learn more about interactive tables.';\n",
              "          element.innerHTML = '';\n",
              "          dataTable['output_type'] = 'display_data';\n",
              "          await google.colab.output.renderOutput(dataTable, element);\n",
              "          const docLink = document.createElement('div');\n",
              "          docLink.innerHTML = docLinkHtml;\n",
              "          element.appendChild(docLink);\n",
              "        }\n",
              "      </script>\n",
              "    </div>\n",
              "  </div>\n",
              "  "
            ]
          },
          "metadata": {},
          "execution_count": 86
        }
      ]
    },
    {
      "cell_type": "code",
      "source": [
        "df1[\"Name\"]=data1"
      ],
      "metadata": {
        "id": "SDGe8G8m82Cg"
      },
      "execution_count": 87,
      "outputs": []
    },
    {
      "cell_type": "code",
      "source": [
        "df1"
      ],
      "metadata": {
        "colab": {
          "base_uri": "https://localhost:8080/",
          "height": 423
        },
        "id": "BIAcnTy984Ip",
        "outputId": "0575f067-498e-411d-c99f-3884de4c9fd6"
      },
      "execution_count": 88,
      "outputs": [
        {
          "output_type": "execute_result",
          "data": {
            "text/plain": [
              "       Miles  Year  Name\n",
              "0      41946  2018    71\n",
              "1      45328  2020   127\n",
              "2      81068  2012   195\n",
              "3      35372  2019   193\n",
              "4      68992  2017    20\n",
              "...      ...   ...   ...\n",
              "21995  98085  2014   132\n",
              "21996  62616  2016    80\n",
              "21997  50345  2013   116\n",
              "21998  27945  2020   359\n",
              "21999  70676  2012   138\n",
              "\n",
              "[22000 rows x 3 columns]"
            ],
            "text/html": [
              "\n",
              "  <div id=\"df-a4bd1df9-1d85-49b6-81ae-1890ea6b64f2\">\n",
              "    <div class=\"colab-df-container\">\n",
              "      <div>\n",
              "<style scoped>\n",
              "    .dataframe tbody tr th:only-of-type {\n",
              "        vertical-align: middle;\n",
              "    }\n",
              "\n",
              "    .dataframe tbody tr th {\n",
              "        vertical-align: top;\n",
              "    }\n",
              "\n",
              "    .dataframe thead th {\n",
              "        text-align: right;\n",
              "    }\n",
              "</style>\n",
              "<table border=\"1\" class=\"dataframe\">\n",
              "  <thead>\n",
              "    <tr style=\"text-align: right;\">\n",
              "      <th></th>\n",
              "      <th>Miles</th>\n",
              "      <th>Year</th>\n",
              "      <th>Name</th>\n",
              "    </tr>\n",
              "  </thead>\n",
              "  <tbody>\n",
              "    <tr>\n",
              "      <th>0</th>\n",
              "      <td>41946</td>\n",
              "      <td>2018</td>\n",
              "      <td>71</td>\n",
              "    </tr>\n",
              "    <tr>\n",
              "      <th>1</th>\n",
              "      <td>45328</td>\n",
              "      <td>2020</td>\n",
              "      <td>127</td>\n",
              "    </tr>\n",
              "    <tr>\n",
              "      <th>2</th>\n",
              "      <td>81068</td>\n",
              "      <td>2012</td>\n",
              "      <td>195</td>\n",
              "    </tr>\n",
              "    <tr>\n",
              "      <th>3</th>\n",
              "      <td>35372</td>\n",
              "      <td>2019</td>\n",
              "      <td>193</td>\n",
              "    </tr>\n",
              "    <tr>\n",
              "      <th>4</th>\n",
              "      <td>68992</td>\n",
              "      <td>2017</td>\n",
              "      <td>20</td>\n",
              "    </tr>\n",
              "    <tr>\n",
              "      <th>...</th>\n",
              "      <td>...</td>\n",
              "      <td>...</td>\n",
              "      <td>...</td>\n",
              "    </tr>\n",
              "    <tr>\n",
              "      <th>21995</th>\n",
              "      <td>98085</td>\n",
              "      <td>2014</td>\n",
              "      <td>132</td>\n",
              "    </tr>\n",
              "    <tr>\n",
              "      <th>21996</th>\n",
              "      <td>62616</td>\n",
              "      <td>2016</td>\n",
              "      <td>80</td>\n",
              "    </tr>\n",
              "    <tr>\n",
              "      <th>21997</th>\n",
              "      <td>50345</td>\n",
              "      <td>2013</td>\n",
              "      <td>116</td>\n",
              "    </tr>\n",
              "    <tr>\n",
              "      <th>21998</th>\n",
              "      <td>27945</td>\n",
              "      <td>2020</td>\n",
              "      <td>359</td>\n",
              "    </tr>\n",
              "    <tr>\n",
              "      <th>21999</th>\n",
              "      <td>70676</td>\n",
              "      <td>2012</td>\n",
              "      <td>138</td>\n",
              "    </tr>\n",
              "  </tbody>\n",
              "</table>\n",
              "<p>22000 rows × 3 columns</p>\n",
              "</div>\n",
              "      <button class=\"colab-df-convert\" onclick=\"convertToInteractive('df-a4bd1df9-1d85-49b6-81ae-1890ea6b64f2')\"\n",
              "              title=\"Convert this dataframe to an interactive table.\"\n",
              "              style=\"display:none;\">\n",
              "        \n",
              "  <svg xmlns=\"http://www.w3.org/2000/svg\" height=\"24px\"viewBox=\"0 0 24 24\"\n",
              "       width=\"24px\">\n",
              "    <path d=\"M0 0h24v24H0V0z\" fill=\"none\"/>\n",
              "    <path d=\"M18.56 5.44l.94 2.06.94-2.06 2.06-.94-2.06-.94-.94-2.06-.94 2.06-2.06.94zm-11 1L8.5 8.5l.94-2.06 2.06-.94-2.06-.94L8.5 2.5l-.94 2.06-2.06.94zm10 10l.94 2.06.94-2.06 2.06-.94-2.06-.94-.94-2.06-.94 2.06-2.06.94z\"/><path d=\"M17.41 7.96l-1.37-1.37c-.4-.4-.92-.59-1.43-.59-.52 0-1.04.2-1.43.59L10.3 9.45l-7.72 7.72c-.78.78-.78 2.05 0 2.83L4 21.41c.39.39.9.59 1.41.59.51 0 1.02-.2 1.41-.59l7.78-7.78 2.81-2.81c.8-.78.8-2.07 0-2.86zM5.41 20L4 18.59l7.72-7.72 1.47 1.35L5.41 20z\"/>\n",
              "  </svg>\n",
              "      </button>\n",
              "      \n",
              "  <style>\n",
              "    .colab-df-container {\n",
              "      display:flex;\n",
              "      flex-wrap:wrap;\n",
              "      gap: 12px;\n",
              "    }\n",
              "\n",
              "    .colab-df-convert {\n",
              "      background-color: #E8F0FE;\n",
              "      border: none;\n",
              "      border-radius: 50%;\n",
              "      cursor: pointer;\n",
              "      display: none;\n",
              "      fill: #1967D2;\n",
              "      height: 32px;\n",
              "      padding: 0 0 0 0;\n",
              "      width: 32px;\n",
              "    }\n",
              "\n",
              "    .colab-df-convert:hover {\n",
              "      background-color: #E2EBFA;\n",
              "      box-shadow: 0px 1px 2px rgba(60, 64, 67, 0.3), 0px 1px 3px 1px rgba(60, 64, 67, 0.15);\n",
              "      fill: #174EA6;\n",
              "    }\n",
              "\n",
              "    [theme=dark] .colab-df-convert {\n",
              "      background-color: #3B4455;\n",
              "      fill: #D2E3FC;\n",
              "    }\n",
              "\n",
              "    [theme=dark] .colab-df-convert:hover {\n",
              "      background-color: #434B5C;\n",
              "      box-shadow: 0px 1px 3px 1px rgba(0, 0, 0, 0.15);\n",
              "      filter: drop-shadow(0px 1px 2px rgba(0, 0, 0, 0.3));\n",
              "      fill: #FFFFFF;\n",
              "    }\n",
              "  </style>\n",
              "\n",
              "      <script>\n",
              "        const buttonEl =\n",
              "          document.querySelector('#df-a4bd1df9-1d85-49b6-81ae-1890ea6b64f2 button.colab-df-convert');\n",
              "        buttonEl.style.display =\n",
              "          google.colab.kernel.accessAllowed ? 'block' : 'none';\n",
              "\n",
              "        async function convertToInteractive(key) {\n",
              "          const element = document.querySelector('#df-a4bd1df9-1d85-49b6-81ae-1890ea6b64f2');\n",
              "          const dataTable =\n",
              "            await google.colab.kernel.invokeFunction('convertToInteractive',\n",
              "                                                     [key], {});\n",
              "          if (!dataTable) return;\n",
              "\n",
              "          const docLinkHtml = 'Like what you see? Visit the ' +\n",
              "            '<a target=\"_blank\" href=https://colab.research.google.com/notebooks/data_table.ipynb>data table notebook</a>'\n",
              "            + ' to learn more about interactive tables.';\n",
              "          element.innerHTML = '';\n",
              "          dataTable['output_type'] = 'display_data';\n",
              "          await google.colab.output.renderOutput(dataTable, element);\n",
              "          const docLink = document.createElement('div');\n",
              "          docLink.innerHTML = docLinkHtml;\n",
              "          element.appendChild(docLink);\n",
              "        }\n",
              "      </script>\n",
              "    </div>\n",
              "  </div>\n",
              "  "
            ]
          },
          "metadata": {},
          "execution_count": 88
        }
      ]
    },
    {
      "cell_type": "code",
      "source": [
        "df2"
      ],
      "metadata": {
        "colab": {
          "base_uri": "https://localhost:8080/"
        },
        "id": "VrxNOGku85zF",
        "outputId": "df248320-4289-43c9-a913-523206ac9af5"
      },
      "execution_count": 89,
      "outputs": [
        {
          "output_type": "execute_result",
          "data": {
            "text/plain": [
              "0        16990\n",
              "1        23990\n",
              "2        21590\n",
              "3        21590\n",
              "4        22990\n",
              "         ...  \n",
              "21995    17590\n",
              "21996    23990\n",
              "21997    16990\n",
              "21998    23990\n",
              "21999    14990\n",
              "Name: Price, Length: 22000, dtype: int64"
            ]
          },
          "metadata": {},
          "execution_count": 89
        }
      ]
    },
    {
      "cell_type": "code",
      "source": [
        "new_df=df1.join(df2)"
      ],
      "metadata": {
        "id": "FIPJSigm88xa"
      },
      "execution_count": 90,
      "outputs": []
    },
    {
      "cell_type": "code",
      "source": [
        "new_df"
      ],
      "metadata": {
        "colab": {
          "base_uri": "https://localhost:8080/",
          "height": 423
        },
        "id": "-KWRZ-7R8-rE",
        "outputId": "a03e60a0-bd43-4b10-edde-c710f58a9897"
      },
      "execution_count": 91,
      "outputs": [
        {
          "output_type": "execute_result",
          "data": {
            "text/plain": [
              "       Miles  Year  Name  Price\n",
              "0      41946  2018    71  16990\n",
              "1      45328  2020   127  23990\n",
              "2      81068  2012   195  21590\n",
              "3      35372  2019   193  21590\n",
              "4      68992  2017    20  22990\n",
              "...      ...   ...   ...    ...\n",
              "21995  98085  2014   132  17590\n",
              "21996  62616  2016    80  23990\n",
              "21997  50345  2013   116  16990\n",
              "21998  27945  2020   359  23990\n",
              "21999  70676  2012   138  14990\n",
              "\n",
              "[22000 rows x 4 columns]"
            ],
            "text/html": [
              "\n",
              "  <div id=\"df-1bc6635a-2ad0-44ef-995a-a27c671ba5d0\">\n",
              "    <div class=\"colab-df-container\">\n",
              "      <div>\n",
              "<style scoped>\n",
              "    .dataframe tbody tr th:only-of-type {\n",
              "        vertical-align: middle;\n",
              "    }\n",
              "\n",
              "    .dataframe tbody tr th {\n",
              "        vertical-align: top;\n",
              "    }\n",
              "\n",
              "    .dataframe thead th {\n",
              "        text-align: right;\n",
              "    }\n",
              "</style>\n",
              "<table border=\"1\" class=\"dataframe\">\n",
              "  <thead>\n",
              "    <tr style=\"text-align: right;\">\n",
              "      <th></th>\n",
              "      <th>Miles</th>\n",
              "      <th>Year</th>\n",
              "      <th>Name</th>\n",
              "      <th>Price</th>\n",
              "    </tr>\n",
              "  </thead>\n",
              "  <tbody>\n",
              "    <tr>\n",
              "      <th>0</th>\n",
              "      <td>41946</td>\n",
              "      <td>2018</td>\n",
              "      <td>71</td>\n",
              "      <td>16990</td>\n",
              "    </tr>\n",
              "    <tr>\n",
              "      <th>1</th>\n",
              "      <td>45328</td>\n",
              "      <td>2020</td>\n",
              "      <td>127</td>\n",
              "      <td>23990</td>\n",
              "    </tr>\n",
              "    <tr>\n",
              "      <th>2</th>\n",
              "      <td>81068</td>\n",
              "      <td>2012</td>\n",
              "      <td>195</td>\n",
              "      <td>21590</td>\n",
              "    </tr>\n",
              "    <tr>\n",
              "      <th>3</th>\n",
              "      <td>35372</td>\n",
              "      <td>2019</td>\n",
              "      <td>193</td>\n",
              "      <td>21590</td>\n",
              "    </tr>\n",
              "    <tr>\n",
              "      <th>4</th>\n",
              "      <td>68992</td>\n",
              "      <td>2017</td>\n",
              "      <td>20</td>\n",
              "      <td>22990</td>\n",
              "    </tr>\n",
              "    <tr>\n",
              "      <th>...</th>\n",
              "      <td>...</td>\n",
              "      <td>...</td>\n",
              "      <td>...</td>\n",
              "      <td>...</td>\n",
              "    </tr>\n",
              "    <tr>\n",
              "      <th>21995</th>\n",
              "      <td>98085</td>\n",
              "      <td>2014</td>\n",
              "      <td>132</td>\n",
              "      <td>17590</td>\n",
              "    </tr>\n",
              "    <tr>\n",
              "      <th>21996</th>\n",
              "      <td>62616</td>\n",
              "      <td>2016</td>\n",
              "      <td>80</td>\n",
              "      <td>23990</td>\n",
              "    </tr>\n",
              "    <tr>\n",
              "      <th>21997</th>\n",
              "      <td>50345</td>\n",
              "      <td>2013</td>\n",
              "      <td>116</td>\n",
              "      <td>16990</td>\n",
              "    </tr>\n",
              "    <tr>\n",
              "      <th>21998</th>\n",
              "      <td>27945</td>\n",
              "      <td>2020</td>\n",
              "      <td>359</td>\n",
              "      <td>23990</td>\n",
              "    </tr>\n",
              "    <tr>\n",
              "      <th>21999</th>\n",
              "      <td>70676</td>\n",
              "      <td>2012</td>\n",
              "      <td>138</td>\n",
              "      <td>14990</td>\n",
              "    </tr>\n",
              "  </tbody>\n",
              "</table>\n",
              "<p>22000 rows × 4 columns</p>\n",
              "</div>\n",
              "      <button class=\"colab-df-convert\" onclick=\"convertToInteractive('df-1bc6635a-2ad0-44ef-995a-a27c671ba5d0')\"\n",
              "              title=\"Convert this dataframe to an interactive table.\"\n",
              "              style=\"display:none;\">\n",
              "        \n",
              "  <svg xmlns=\"http://www.w3.org/2000/svg\" height=\"24px\"viewBox=\"0 0 24 24\"\n",
              "       width=\"24px\">\n",
              "    <path d=\"M0 0h24v24H0V0z\" fill=\"none\"/>\n",
              "    <path d=\"M18.56 5.44l.94 2.06.94-2.06 2.06-.94-2.06-.94-.94-2.06-.94 2.06-2.06.94zm-11 1L8.5 8.5l.94-2.06 2.06-.94-2.06-.94L8.5 2.5l-.94 2.06-2.06.94zm10 10l.94 2.06.94-2.06 2.06-.94-2.06-.94-.94-2.06-.94 2.06-2.06.94z\"/><path d=\"M17.41 7.96l-1.37-1.37c-.4-.4-.92-.59-1.43-.59-.52 0-1.04.2-1.43.59L10.3 9.45l-7.72 7.72c-.78.78-.78 2.05 0 2.83L4 21.41c.39.39.9.59 1.41.59.51 0 1.02-.2 1.41-.59l7.78-7.78 2.81-2.81c.8-.78.8-2.07 0-2.86zM5.41 20L4 18.59l7.72-7.72 1.47 1.35L5.41 20z\"/>\n",
              "  </svg>\n",
              "      </button>\n",
              "      \n",
              "  <style>\n",
              "    .colab-df-container {\n",
              "      display:flex;\n",
              "      flex-wrap:wrap;\n",
              "      gap: 12px;\n",
              "    }\n",
              "\n",
              "    .colab-df-convert {\n",
              "      background-color: #E8F0FE;\n",
              "      border: none;\n",
              "      border-radius: 50%;\n",
              "      cursor: pointer;\n",
              "      display: none;\n",
              "      fill: #1967D2;\n",
              "      height: 32px;\n",
              "      padding: 0 0 0 0;\n",
              "      width: 32px;\n",
              "    }\n",
              "\n",
              "    .colab-df-convert:hover {\n",
              "      background-color: #E2EBFA;\n",
              "      box-shadow: 0px 1px 2px rgba(60, 64, 67, 0.3), 0px 1px 3px 1px rgba(60, 64, 67, 0.15);\n",
              "      fill: #174EA6;\n",
              "    }\n",
              "\n",
              "    [theme=dark] .colab-df-convert {\n",
              "      background-color: #3B4455;\n",
              "      fill: #D2E3FC;\n",
              "    }\n",
              "\n",
              "    [theme=dark] .colab-df-convert:hover {\n",
              "      background-color: #434B5C;\n",
              "      box-shadow: 0px 1px 3px 1px rgba(0, 0, 0, 0.15);\n",
              "      filter: drop-shadow(0px 1px 2px rgba(0, 0, 0, 0.3));\n",
              "      fill: #FFFFFF;\n",
              "    }\n",
              "  </style>\n",
              "\n",
              "      <script>\n",
              "        const buttonEl =\n",
              "          document.querySelector('#df-1bc6635a-2ad0-44ef-995a-a27c671ba5d0 button.colab-df-convert');\n",
              "        buttonEl.style.display =\n",
              "          google.colab.kernel.accessAllowed ? 'block' : 'none';\n",
              "\n",
              "        async function convertToInteractive(key) {\n",
              "          const element = document.querySelector('#df-1bc6635a-2ad0-44ef-995a-a27c671ba5d0');\n",
              "          const dataTable =\n",
              "            await google.colab.kernel.invokeFunction('convertToInteractive',\n",
              "                                                     [key], {});\n",
              "          if (!dataTable) return;\n",
              "\n",
              "          const docLinkHtml = 'Like what you see? Visit the ' +\n",
              "            '<a target=\"_blank\" href=https://colab.research.google.com/notebooks/data_table.ipynb>data table notebook</a>'\n",
              "            + ' to learn more about interactive tables.';\n",
              "          element.innerHTML = '';\n",
              "          dataTable['output_type'] = 'display_data';\n",
              "          await google.colab.output.renderOutput(dataTable, element);\n",
              "          const docLink = document.createElement('div');\n",
              "          docLink.innerHTML = docLinkHtml;\n",
              "          element.appendChild(docLink);\n",
              "        }\n",
              "      </script>\n",
              "    </div>\n",
              "  </div>\n",
              "  "
            ]
          },
          "metadata": {},
          "execution_count": 91
        }
      ]
    },
    {
      "cell_type": "code",
      "source": [
        "# convert the 'Year' column which is an object type into integer type\n",
        "new_df[\"Year\"]=new_df[\"Year\"].astype(int)\n",
        "new_df1=new_df\n",
        "new_df.dtypes"
      ],
      "metadata": {
        "colab": {
          "base_uri": "https://localhost:8080/"
        },
        "id": "fuoCKpaE9AK-",
        "outputId": "de74fd53-7620-4632-fe4e-fcbaccaf74d5"
      },
      "execution_count": 92,
      "outputs": [
        {
          "output_type": "execute_result",
          "data": {
            "text/plain": [
              "Miles    int64\n",
              "Year     int64\n",
              "Name     int64\n",
              "Price    int64\n",
              "dtype: object"
            ]
          },
          "metadata": {},
          "execution_count": 92
        }
      ]
    },
    {
      "cell_type": "markdown",
      "source": [
        "## **Visualizing the data**\n",
        "\n"
      ],
      "metadata": {
        "id": "00d8j-lBQlqQ"
      }
    },
    {
      "cell_type": "code",
      "source": [
        "import matplotlib.pyplot as plt\n",
        "import seaborn as sns\n",
        "plt.figure(figsize=(15,8))\n",
        "sns.countplot(x='Year', data=new_df);\n",
        "plt.title(\"The Model(year) that sold the most \")\n",
        "plt.legend()\n",
        "plt.show()"
      ],
      "metadata": {
        "colab": {
          "base_uri": "https://localhost:8080/",
          "height": 530
        },
        "id": "BBM-0Nd99CAP",
        "outputId": "aa736583-ea08-42ec-a6ce-84df6d34735f"
      },
      "execution_count": 93,
      "outputs": [
        {
          "output_type": "stream",
          "name": "stderr",
          "text": [
            "WARNING:matplotlib.legend:No handles with labels found to put in legend.\n"
          ]
        },
        {
          "output_type": "display_data",
          "data": {
            "text/plain": [
              "<Figure size 1080x576 with 1 Axes>"
            ],
            "image/png": "[encoded data removed]"
          },
          "metadata": {
            "needs_background": "light"
          }
        }
      ]
    },
    {
      "cell_type": "markdown",
      "source": [
        "From the countplot, we can see that the 2015 car models have sold the most"
      ],
      "metadata": {
        "id": "NmOwEQxNQg42"
      }
    },
    {
      "cell_type": "code",
      "source": [
        "plt.figure(figsize = (15,8))\n",
        "data['Name'].value_counts().head(20).plot.bar(color='r', alpha=0.5)\n",
        "plt.title(\"Top 20 Car models that were sold\")\n",
        "plt.show()"
      ],
      "metadata": {
        "colab": {
          "base_uri": "https://localhost:8080/",
          "height": 589
        },
        "id": "iMt-floS9GDw",
        "outputId": "1abbdd45-ad4b-4878-8767-8a154f41b44a"
      },
      "execution_count": 94,
      "outputs": [
        {
          "output_type": "display_data",
          "data": {
            "text/plain": [
              "<Figure size 1080x576 with 1 Axes>"
            ],
            "image/png": "[encoded data removed]"
          },
          "metadata": {
            "needs_background": "light"
          }
        }
      ]
    },
    {
      "cell_type": "code",
      "source": [
        "plt.figure(figsize = (15,8))\n",
        "data['Price'].value_counts().head(20).plot.bar(color='g', alpha=0.5)\n",
        "plt.title(\"Top 20 Price at which Used Cars are sold\")\n",
        "plt.show()"
      ],
      "metadata": {
        "colab": {
          "base_uri": "https://localhost:8080/",
          "height": 521
        },
        "id": "juTIMTQ49H1-",
        "outputId": "1f184f1d-cb90-41c3-a272-5facd58861d6"
      },
      "execution_count": 95,
      "outputs": [
        {
          "output_type": "display_data",
          "data": {
            "text/plain": [
              "<Figure size 1080x576 with 1 Axes>"
            ],
            "image/png": "[encoded data removed]"
          },
          "metadata": {
            "needs_background": "light"
          }
        }
      ]
    },
    {
      "cell_type": "code",
      "source": [
        "sns.pairplot(new_df);"
      ],
      "metadata": {
        "colab": {
          "base_uri": "https://localhost:8080/",
          "height": 726
        },
        "id": "GdA1kPG79Jar",
        "outputId": "73683695-a9f9-445e-e352-094ed047d1ba"
      },
      "execution_count": 96,
      "outputs": [
        {
          "output_type": "display_data",
          "data": {
            "text/plain": [
              "<Figure size 720x720 with 20 Axes>"
            ],
            "image/png": "[encoded data removed]"
          },
          "metadata": {
            "needs_background": "light"
          }
        }
      ]
    },
    {
      "cell_type": "code",
      "source": [
        "new_df1=new_df1.drop(['Name'], axis=1)\n",
        "new_df1.head()"
      ],
      "metadata": {
        "colab": {
          "base_uri": "https://localhost:8080/",
          "height": 206
        },
        "id": "ENM4NrXo9OQW",
        "outputId": "bc359b44-2378-4565-8060-f920eec9cc21"
      },
      "execution_count": 97,
      "outputs": [
        {
          "output_type": "execute_result",
          "data": {
            "text/plain": [
              "   Miles  Year  Price\n",
              "0  41946  2018  16990\n",
              "1  45328  2020  23990\n",
              "2  81068  2012  21590\n",
              "3  35372  2019  21590\n",
              "4  68992  2017  22990"
            ],
            "text/html": [
              "\n",
              "  <div id=\"df-966fd7b2-3e32-4fdd-929d-d5acf6f6174a\">\n",
              "    <div class=\"colab-df-container\">\n",
              "      <div>\n",
              "<style scoped>\n",
              "    .dataframe tbody tr th:only-of-type {\n",
              "        vertical-align: middle;\n",
              "    }\n",
              "\n",
              "    .dataframe tbody tr th {\n",
              "        vertical-align: top;\n",
              "    }\n",
              "\n",
              "    .dataframe thead th {\n",
              "        text-align: right;\n",
              "    }\n",
              "</style>\n",
              "<table border=\"1\" class=\"dataframe\">\n",
              "  <thead>\n",
              "    <tr style=\"text-align: right;\">\n",
              "      <th></th>\n",
              "      <th>Miles</th>\n",
              "      <th>Year</th>\n",
              "      <th>Price</th>\n",
              "    </tr>\n",
              "  </thead>\n",
              "  <tbody>\n",
              "    <tr>\n",
              "      <th>0</th>\n",
              "      <td>41946</td>\n",
              "      <td>2018</td>\n",
              "      <td>16990</td>\n",
              "    </tr>\n",
              "    <tr>\n",
              "      <th>1</th>\n",
              "      <td>45328</td>\n",
              "      <td>2020</td>\n",
              "      <td>23990</td>\n",
              "    </tr>\n",
              "    <tr>\n",
              "      <th>2</th>\n",
              "      <td>81068</td>\n",
              "      <td>2012</td>\n",
              "      <td>21590</td>\n",
              "    </tr>\n",
              "    <tr>\n",
              "      <th>3</th>\n",
              "      <td>35372</td>\n",
              "      <td>2019</td>\n",
              "      <td>21590</td>\n",
              "    </tr>\n",
              "    <tr>\n",
              "      <th>4</th>\n",
              "      <td>68992</td>\n",
              "      <td>2017</td>\n",
              "      <td>22990</td>\n",
              "    </tr>\n",
              "  </tbody>\n",
              "</table>\n",
              "</div>\n",
              "      <button class=\"colab-df-convert\" onclick=\"convertToInteractive('df-966fd7b2-3e32-4fdd-929d-d5acf6f6174a')\"\n",
              "              title=\"Convert this dataframe to an interactive table.\"\n",
              "              style=\"display:none;\">\n",
              "        \n",
              "  <svg xmlns=\"http://www.w3.org/2000/svg\" height=\"24px\"viewBox=\"0 0 24 24\"\n",
              "       width=\"24px\">\n",
              "    <path d=\"M0 0h24v24H0V0z\" fill=\"none\"/>\n",
              "    <path d=\"M18.56 5.44l.94 2.06.94-2.06 2.06-.94-2.06-.94-.94-2.06-.94 2.06-2.06.94zm-11 1L8.5 8.5l.94-2.06 2.06-.94-2.06-.94L8.5 2.5l-.94 2.06-2.06.94zm10 10l.94 2.06.94-2.06 2.06-.94-2.06-.94-.94-2.06-.94 2.06-2.06.94z\"/><path d=\"M17.41 7.96l-1.37-1.37c-.4-.4-.92-.59-1.43-.59-.52 0-1.04.2-1.43.59L10.3 9.45l-7.72 7.72c-.78.78-.78 2.05 0 2.83L4 21.41c.39.39.9.59 1.41.59.51 0 1.02-.2 1.41-.59l7.78-7.78 2.81-2.81c.8-.78.8-2.07 0-2.86zM5.41 20L4 18.59l7.72-7.72 1.47 1.35L5.41 20z\"/>\n",
              "  </svg>\n",
              "      </button>\n",
              "      \n",
              "  <style>\n",
              "    .colab-df-container {\n",
              "      display:flex;\n",
              "      flex-wrap:wrap;\n",
              "      gap: 12px;\n",
              "    }\n",
              "\n",
              "    .colab-df-convert {\n",
              "      background-color: #E8F0FE;\n",
              "      border: none;\n",
              "      border-radius: 50%;\n",
              "      cursor: pointer;\n",
              "      display: none;\n",
              "      fill: #1967D2;\n",
              "      height: 32px;\n",
              "      padding: 0 0 0 0;\n",
              "      width: 32px;\n",
              "    }\n",
              "\n",
              "    .colab-df-convert:hover {\n",
              "      background-color: #E2EBFA;\n",
              "      box-shadow: 0px 1px 2px rgba(60, 64, 67, 0.3), 0px 1px 3px 1px rgba(60, 64, 67, 0.15);\n",
              "      fill: #174EA6;\n",
              "    }\n",
              "\n",
              "    [theme=dark] .colab-df-convert {\n",
              "      background-color: #3B4455;\n",
              "      fill: #D2E3FC;\n",
              "    }\n",
              "\n",
              "    [theme=dark] .colab-df-convert:hover {\n",
              "      background-color: #434B5C;\n",
              "      box-shadow: 0px 1px 3px 1px rgba(0, 0, 0, 0.15);\n",
              "      filter: drop-shadow(0px 1px 2px rgba(0, 0, 0, 0.3));\n",
              "      fill: #FFFFFF;\n",
              "    }\n",
              "  </style>\n",
              "\n",
              "      <script>\n",
              "        const buttonEl =\n",
              "          document.querySelector('#df-966fd7b2-3e32-4fdd-929d-d5acf6f6174a button.colab-df-convert');\n",
              "        buttonEl.style.display =\n",
              "          google.colab.kernel.accessAllowed ? 'block' : 'none';\n",
              "\n",
              "        async function convertToInteractive(key) {\n",
              "          const element = document.querySelector('#df-966fd7b2-3e32-4fdd-929d-d5acf6f6174a');\n",
              "          const dataTable =\n",
              "            await google.colab.kernel.invokeFunction('convertToInteractive',\n",
              "                                                     [key], {});\n",
              "          if (!dataTable) return;\n",
              "\n",
              "          const docLinkHtml = 'Like what you see? Visit the ' +\n",
              "            '<a target=\"_blank\" href=https://colab.research.google.com/notebooks/data_table.ipynb>data table notebook</a>'\n",
              "            + ' to learn more about interactive tables.';\n",
              "          element.innerHTML = '';\n",
              "          dataTable['output_type'] = 'display_data';\n",
              "          await google.colab.output.renderOutput(dataTable, element);\n",
              "          const docLink = document.createElement('div');\n",
              "          docLink.innerHTML = docLinkHtml;\n",
              "          element.appendChild(docLink);\n",
              "        }\n",
              "      </script>\n",
              "    </div>\n",
              "  </div>\n",
              "  "
            ]
          },
          "metadata": {},
          "execution_count": 97
        }
      ]
    },
    {
      "cell_type": "code",
      "source": [
        "sns.heatmap(new_df1.corr(), annot=True);"
      ],
      "metadata": {
        "colab": {
          "base_uri": "https://localhost:8080/",
          "height": 269
        },
        "id": "sKKK-ZDM9P92",
        "outputId": "6e95411b-4c50-43b3-ca51-71463e267941"
      },
      "execution_count": 98,
      "outputs": [
        {
          "output_type": "display_data",
          "data": {
            "text/plain": [
              "<Figure size 432x288 with 2 Axes>"
            ],
            "image/png": "[encoded data removed]"
          },
          "metadata": {
            "needs_background": "light"
          }
        }
      ]
    },
    {
      "cell_type": "markdown",
      "source": [
        "From the pairplot and the heatmap, it is clear that the features, 'Year' and 'Price' are negatively correlated with 'Miles'. That is, as the number of miles driven increases the price of the car decreases. The feature 'Year' is positively correlated with 'Price', ie, The more recent the car is manufactured, the more price it fetches."
      ],
      "metadata": {
        "id": "shx7cvxIQZ-2"
      }
    },
    {
      "cell_type": "markdown",
      "source": [
        "## **Model building**"
      ],
      "metadata": {
        "id": "0kGjMx_0QCp2"
      }
    },
    {
      "cell_type": "markdown",
      "source": [
        "**Linear Regression**"
      ],
      "metadata": {
        "id": "uj-UguSSQNDP"
      }
    },
    {
      "cell_type": "code",
      "source": [
        "df2=new_df1[\"Price\"]\n",
        "new_df1=new_df1.drop([\"Price\"], axis=1)"
      ],
      "metadata": {
        "id": "fzlInOBQCP6K"
      },
      "execution_count": 99,
      "outputs": []
    },
    {
      "cell_type": "code",
      "source": [
        "X=new_df1\n",
        "y=df2\n",
        "print(X.shape)\n",
        "y.shape"
      ],
      "metadata": {
        "colab": {
          "base_uri": "https://localhost:8080/"
        },
        "id": "zurentnKCZTP",
        "outputId": "effd4371-40aa-494a-af39-012d186f6e68"
      },
      "execution_count": 100,
      "outputs": [
        {
          "output_type": "stream",
          "name": "stdout",
          "text": [
            "(22000, 2)\n"
          ]
        },
        {
          "output_type": "execute_result",
          "data": {
            "text/plain": [
              "(22000,)"
            ]
          },
          "metadata": {},
          "execution_count": 100
        }
      ]
    },
    {
      "cell_type": "code",
      "source": [
        "from sklearn.model_selection import train_test_split\n",
        "X_train,X_test,y_train,y_test=train_test_split(X,y, test_size=0.25, random_state=0)"
      ],
      "metadata": {
        "id": "51-1dDB0O3ms"
      },
      "execution_count": 101,
      "outputs": []
    },
    {
      "cell_type": "code",
      "source": [
        "from sklearn.linear_model import LinearRegression\n",
        "regressor=LinearRegression()"
      ],
      "metadata": {
        "id": "idpyIuCCO43f"
      },
      "execution_count": 102,
      "outputs": []
    },
    {
      "cell_type": "code",
      "source": [
        "regressor.fit(X_train,y_train) # fit the model with the training set"
      ],
      "metadata": {
        "colab": {
          "base_uri": "https://localhost:8080/"
        },
        "id": "2uqGa7L4PEU3",
        "outputId": "cdc9e672-901d-4ed0-dbc8-2bf8e9b1a526"
      },
      "execution_count": 103,
      "outputs": [
        {
          "output_type": "execute_result",
          "data": {
            "text/plain": [
              "LinearRegression()"
            ]
          },
          "metadata": {},
          "execution_count": 103
        }
      ]
    },
    {
      "cell_type": "code",
      "source": [
        "y_pred=regressor.predict(X_test)"
      ],
      "metadata": {
        "id": "wJIYHpXuPOMQ"
      },
      "execution_count": 104,
      "outputs": []
    },
    {
      "cell_type": "code",
      "source": [
        "from sklearn.metrics import mean_squared_error, mean_absolute_error, r2_score"
      ],
      "metadata": {
        "id": "qODbp-uxPXsJ"
      },
      "execution_count": 105,
      "outputs": []
    },
    {
      "cell_type": "code",
      "source": [
        "mse=mean_squared_error(y_test,y_pred)\n",
        "print(\"Mean Squared Error = \", mse)\n",
        "mae=mean_absolute_error(y_test, y_pred)\n",
        "print(\"Mean Absolute Error = \", mae)\n",
        "print(\"Root Mean Squared Error = \", np.sqrt(mse))\n",
        "print(\"R2 Score = \", r2_score(y_test, y_pred))\n",
        "adj_r2=1 - (1-regressor.score(X, y))*(len(y)-1)/(len(y)-X.shape[1]-1)\n",
        "print(\"Adjusted R2 = \", adj_r2)"
      ],
      "metadata": {
        "colab": {
          "base_uri": "https://localhost:8080/"
        },
        "id": "7FVQRMnpPaAS",
        "outputId": "9e0fefd9-2f51-48e0-a68a-d7fc84d3487b"
      },
      "execution_count": 106,
      "outputs": [
        {
          "output_type": "stream",
          "name": "stdout",
          "text": [
            "Mean Squared Error =  28317104.274382737\n",
            "Mean Absolute Error =  3405.384091352637\n",
            "Root Mean Squared Error =  5321.381801222567\n",
            "R2 Score =  0.32571681233086636\n",
            "Adjusted R2 =  0.31537616008173885\n"
          ]
        }
      ]
    },
    {
      "cell_type": "markdown",
      "source": [
        "**Decision Tree Regression**"
      ],
      "metadata": {
        "id": "LUmZiTu1Peqa"
      }
    },
    {
      "cell_type": "code",
      "source": [
        "from sklearn.tree import DecisionTreeRegressor\n",
        "model=DecisionTreeRegressor(random_state=0)"
      ],
      "metadata": {
        "id": "0ZX5xvTuCrem"
      },
      "execution_count": 107,
      "outputs": []
    },
    {
      "cell_type": "code",
      "source": [
        "model.fit(X,y)"
      ],
      "metadata": {
        "colab": {
          "base_uri": "https://localhost:8080/"
        },
        "id": "p9VqAipbCvNT",
        "outputId": "0f993ae7-46cf-4676-f30c-e74cfa12c372"
      },
      "execution_count": 108,
      "outputs": [
        {
          "output_type": "execute_result",
          "data": {
            "text/plain": [
              "DecisionTreeRegressor(random_state=0)"
            ]
          },
          "metadata": {},
          "execution_count": 108
        }
      ]
    },
    {
      "cell_type": "code",
      "source": [
        "y_predict=model.predict(X_test)"
      ],
      "metadata": {
        "id": "9qr3EDDgC0um"
      },
      "execution_count": 109,
      "outputs": []
    },
    {
      "cell_type": "code",
      "source": [
        "mse_1=mean_squared_error(y_test, y_predict)\n",
        "print(\"MSE = \", mse_1)\n",
        "mae_1=mean_absolute_error(y_test, y_predict)\n",
        "print(\"MAE = \", mae_1)\n",
        "print(\"RMSE = \", np.sqrt(mse_1))\n",
        "print(\"R2 Score = \", r2_score(y_test, y_predict))\n",
        "print(\"Adjusted R2 = \", 1 - (1-model.score(X, y))*(len(y)-1)/(len(y)-X.shape[1]-1))"
      ],
      "metadata": {
        "colab": {
          "base_uri": "https://localhost:8080/"
        },
        "id": "7yE0N5lRC3uy",
        "outputId": "13358793-0774-4ec0-e5da-6f7a9f565d33"
      },
      "execution_count": 110,
      "outputs": [
        {
          "output_type": "stream",
          "name": "stdout",
          "text": [
            "MSE =  230524.20464501774\n",
            "MAE =  29.755351226551227\n",
            "RMSE =  480.1293624066515\n",
            "R2 Score =  0.9945107877543978\n",
            "Adjusted R2 =  0.9952732191664064\n"
          ]
        }
      ]
    }
  ]
}